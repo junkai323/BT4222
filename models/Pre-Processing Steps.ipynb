{
 "cells": [
  {
   "cell_type": "code",
   "execution_count": 5,
   "metadata": {
    "executionInfo": {
     "elapsed": 2816,
     "status": "ok",
     "timestamp": 1618755508512,
     "user": {
      "displayName": "Julene Gatot",
      "photoUrl": "",
      "userId": "07460675129096291951"
     },
     "user_tz": -480
    },
    "id": "V8K17Jntjzzn"
   },
   "outputs": [],
   "source": [
    "import pandas as pd\n",
    "import numpy as np\n",
    "import json\n",
    "\n",
    "import re\n",
    "import string\n",
    "import unidecode\n",
    "import demoji\n",
    "\n",
    "# nltk\n",
    "import nltk\n",
    "from nltk.tokenize import TweetTokenizer\n",
    "from nltk.corpus import stopwords\n",
    "from nltk.corpus import wordnet\n",
    "from nltk.stem import WordNetLemmatizer\n"
   ]
  },
  {
   "cell_type": "code",
   "execution_count": 2,
   "metadata": {
    "colab": {
     "base_uri": "https://localhost:8080/"
    },
    "executionInfo": {
     "elapsed": 6234,
     "status": "ok",
     "timestamp": 1618755494820,
     "user": {
      "displayName": "Julene Gatot",
      "photoUrl": "",
      "userId": "07460675129096291951"
     },
     "user_tz": -480
    },
    "id": "1x59Qaxcj9-m",
    "outputId": "fcaac254-af2e-4eb3-8502-e3406574d09a"
   },
   "outputs": [
    {
     "name": "stdout",
     "output_type": "stream",
     "text": [
      "Collecting unidecode\n",
      "\u001b[?25l  Downloading https://files.pythonhosted.org/packages/9e/25/723487ca2a52ebcee88a34d7d1f5a4b80b793f179ee0f62d5371938dfa01/Unidecode-1.2.0-py2.py3-none-any.whl (241kB)\n",
      "\r",
      "\u001b[K     |█▍                              | 10kB 11.6MB/s eta 0:00:01\r",
      "\u001b[K     |██▊                             | 20kB 17.0MB/s eta 0:00:01\r",
      "\u001b[K     |████                            | 30kB 21.4MB/s eta 0:00:01\r",
      "\u001b[K     |█████▍                          | 40kB 17.3MB/s eta 0:00:01\r",
      "\u001b[K     |██████▉                         | 51kB 16.6MB/s eta 0:00:01\r",
      "\u001b[K     |████████▏                       | 61kB 18.2MB/s eta 0:00:01\r",
      "\u001b[K     |█████████▌                      | 71kB 14.0MB/s eta 0:00:01\r",
      "\u001b[K     |██████████▉                     | 81kB 12.2MB/s eta 0:00:01\r",
      "\u001b[K     |████████████▏                   | 92kB 12.5MB/s eta 0:00:01\r",
      "\u001b[K     |█████████████▋                  | 102kB 11.2MB/s eta 0:00:01\r",
      "\u001b[K     |███████████████                 | 112kB 11.2MB/s eta 0:00:01\r",
      "\u001b[K     |████████████████▎               | 122kB 11.2MB/s eta 0:00:01\r",
      "\u001b[K     |█████████████████▋              | 133kB 11.2MB/s eta 0:00:01\r",
      "\u001b[K     |███████████████████             | 143kB 11.2MB/s eta 0:00:01\r",
      "\u001b[K     |████████████████████▍           | 153kB 11.2MB/s eta 0:00:01\r",
      "\u001b[K     |█████████████████████▊          | 163kB 11.2MB/s eta 0:00:01\r",
      "\u001b[K     |███████████████████████         | 174kB 11.2MB/s eta 0:00:01\r",
      "\u001b[K     |████████████████████████▍       | 184kB 11.2MB/s eta 0:00:01\r",
      "\u001b[K     |█████████████████████████▊      | 194kB 11.2MB/s eta 0:00:01\r",
      "\u001b[K     |███████████████████████████▏    | 204kB 11.2MB/s eta 0:00:01\r",
      "\u001b[K     |████████████████████████████▌   | 215kB 11.2MB/s eta 0:00:01\r",
      "\u001b[K     |█████████████████████████████▉  | 225kB 11.2MB/s eta 0:00:01\r",
      "\u001b[K     |███████████████████████████████▏| 235kB 11.2MB/s eta 0:00:01\r",
      "\u001b[K     |████████████████████████████████| 245kB 11.2MB/s \n",
      "\u001b[?25hInstalling collected packages: unidecode\n",
      "Successfully installed unidecode-1.2.0\n"
     ]
    }
   ],
   "source": [
    "!pip install unidecode"
   ]
  },
  {
   "cell_type": "code",
   "execution_count": 3,
   "metadata": {
    "colab": {
     "base_uri": "https://localhost:8080/"
    },
    "executionInfo": {
     "elapsed": 8763,
     "status": "ok",
     "timestamp": 1618755497838,
     "user": {
      "displayName": "Julene Gatot",
      "photoUrl": "",
      "userId": "07460675129096291951"
     },
     "user_tz": -480
    },
    "id": "lzzXTdQNoKyy",
    "outputId": "317a54e6-bcd9-49b5-c0d3-4a3e725685c3"
   },
   "outputs": [
    {
     "name": "stdout",
     "output_type": "stream",
     "text": [
      "Collecting demoji\n",
      "  Downloading https://files.pythonhosted.org/packages/88/6a/34379abe01c9c36fe9fddc4181dd935332e7d0159ec3fae76f712e49bcea/demoji-0.4.0-py2.py3-none-any.whl\n",
      "Requirement already satisfied: requests<3.0.0 in /usr/local/lib/python3.7/dist-packages (from demoji) (2.23.0)\n",
      "Collecting colorama\n",
      "  Downloading https://files.pythonhosted.org/packages/44/98/5b86278fbbf250d239ae0ecb724f8572af1c91f4a11edf4d36a206189440/colorama-0.4.4-py2.py3-none-any.whl\n",
      "Requirement already satisfied: certifi>=2017.4.17 in /usr/local/lib/python3.7/dist-packages (from requests<3.0.0->demoji) (2020.12.5)\n",
      "Requirement already satisfied: urllib3!=1.25.0,!=1.25.1,<1.26,>=1.21.1 in /usr/local/lib/python3.7/dist-packages (from requests<3.0.0->demoji) (1.24.3)\n",
      "Requirement already satisfied: idna<3,>=2.5 in /usr/local/lib/python3.7/dist-packages (from requests<3.0.0->demoji) (2.10)\n",
      "Requirement already satisfied: chardet<4,>=3.0.2 in /usr/local/lib/python3.7/dist-packages (from requests<3.0.0->demoji) (3.0.4)\n",
      "Installing collected packages: colorama, demoji\n",
      "Successfully installed colorama-0.4.4 demoji-0.4.0\n"
     ]
    }
   ],
   "source": [
    "!pip install demoji"
   ]
  },
  {
   "cell_type": "code",
   "execution_count": 6,
   "metadata": {
    "colab": {
     "base_uri": "https://localhost:8080/"
    },
    "executionInfo": {
     "elapsed": 1371,
     "status": "ok",
     "timestamp": 1618755512340,
     "user": {
      "displayName": "Julene Gatot",
      "photoUrl": "",
      "userId": "07460675129096291951"
     },
     "user_tz": -480
    },
    "id": "VglLPDD_kAuy",
    "outputId": "c579dd20-7b21-4f27-d882-92275ece8002"
   },
   "outputs": [
    {
     "name": "stdout",
     "output_type": "stream",
     "text": [
      "[nltk_data] Downloading package stopwords to /root/nltk_data...\n",
      "[nltk_data]   Unzipping corpora/stopwords.zip.\n"
     ]
    },
    {
     "data": {
      "text/plain": [
       "True"
      ]
     },
     "execution_count": 6,
     "metadata": {
      "tags": []
     },
     "output_type": "execute_result"
    }
   ],
   "source": [
    "nltk.download('stopwords')"
   ]
  },
  {
   "cell_type": "code",
   "execution_count": null,
   "metadata": {
    "id": "neXF5MdHn14r"
   },
   "outputs": [],
   "source": []
  },
  {
   "cell_type": "markdown",
   "metadata": {
    "id": "VLbiRtwwkFjE"
   },
   "source": [
    "# Load Data"
   ]
  },
  {
   "cell_type": "code",
   "execution_count": 7,
   "metadata": {
    "colab": {
     "base_uri": "https://localhost:8080/"
    },
    "executionInfo": {
     "elapsed": 21165,
     "status": "ok",
     "timestamp": 1618755544012,
     "user": {
      "displayName": "Julene Gatot",
      "photoUrl": "",
      "userId": "07460675129096291951"
     },
     "user_tz": -480
    },
    "id": "wAnrD24qkBbP",
    "outputId": "99f3071a-e3a1-44ca-ffee-5c69d2303d9f"
   },
   "outputs": [
    {
     "name": "stdout",
     "output_type": "stream",
     "text": [
      "Mounted at /content/drive\n"
     ]
    }
   ],
   "source": [
    "# mount google drive\n",
    "from google.colab import drive\n",
    "drive.mount('/content/drive')"
   ]
  },
  {
   "cell_type": "markdown",
   "metadata": {
    "id": "EXskBpDyktg1"
   },
   "source": [
    "**Load MMHS150K_GT**"
   ]
  },
  {
   "cell_type": "code",
   "execution_count": 8,
   "metadata": {
    "executionInfo": {
     "elapsed": 5709,
     "status": "ok",
     "timestamp": 1618755573573,
     "user": {
      "displayName": "Julene Gatot",
      "photoUrl": "",
      "userId": "07460675129096291951"
     },
     "user_tz": -480
    },
    "id": "TaSf3n4NkBZa"
   },
   "outputs": [],
   "source": [
    "with open('/content/drive/My Drive/Colab Notebooks/Group Project/MMHS150K_GT.json') as f:\n",
    "    data_json = json.load(f)"
   ]
  },
  {
   "cell_type": "code",
   "execution_count": 9,
   "metadata": {
    "executionInfo": {
     "elapsed": 17721,
     "status": "ok",
     "timestamp": 1618755586069,
     "user": {
      "displayName": "Julene Gatot",
      "photoUrl": "",
      "userId": "07460675129096291951"
     },
     "user_tz": -480
    },
    "id": "oBADFQu_kBXP"
   },
   "outputs": [],
   "source": [
    "mmhs = pd.DataFrame(data_json).T.reset_index(drop=True)"
   ]
  },
  {
   "cell_type": "code",
   "execution_count": 10,
   "metadata": {
    "colab": {
     "base_uri": "https://localhost:8080/"
    },
    "executionInfo": {
     "elapsed": 17308,
     "status": "ok",
     "timestamp": 1618755586073,
     "user": {
      "displayName": "Julene Gatot",
      "photoUrl": "",
      "userId": "07460675129096291951"
     },
     "user_tz": -480
    },
    "id": "7L3ONrzMkBUo",
    "outputId": "e388bc3c-f11e-4c4b-fae1-2dab23db5a0f"
   },
   "outputs": [
    {
     "name": "stdout",
     "output_type": "stream",
     "text": [
      "The MMHS150K dataset has 149823 data points.\n"
     ]
    }
   ],
   "source": [
    "print('The MMHS150K dataset has ' + str(len(mmhs)) + ' data points.' )"
   ]
  },
  {
   "cell_type": "code",
   "execution_count": null,
   "metadata": {
    "id": "wcuMj16zWip_"
   },
   "outputs": [],
   "source": []
  },
  {
   "cell_type": "markdown",
   "metadata": {
    "id": "Ca91FTpRk83J"
   },
   "source": [
    "**Data Formatting**"
   ]
  },
  {
   "cell_type": "code",
   "execution_count": 12,
   "metadata": {
    "executionInfo": {
     "elapsed": 878,
     "status": "ok",
     "timestamp": 1618755603022,
     "user": {
      "displayName": "Julene Gatot",
      "photoUrl": "",
      "userId": "07460675129096291951"
     },
     "user_tz": -480
    },
    "id": "0Fnu_2znkBNf"
   },
   "outputs": [],
   "source": [
    "NotHate = [1 if 0 in i else 0 for i in mmhs['labels']]\n",
    "Racist = [1 if 1 in i else 0 for i in mmhs['labels']]\n",
    "Sexist = [1 if 2 in i else 0 for i in mmhs['labels']]\n",
    "Homophobe = [1 if 3 in i else 0 for i in mmhs['labels']]\n",
    "Religion = [1 if 4 in i else 0 for i in mmhs['labels']]\n",
    "OtherHate = [1 if 5 in i else 0 for i in mmhs['labels']]"
   ]
  },
  {
   "cell_type": "code",
   "execution_count": 13,
   "metadata": {
    "executionInfo": {
     "elapsed": 1002,
     "status": "ok",
     "timestamp": 1618755604608,
     "user": {
      "displayName": "Julene Gatot",
      "photoUrl": "",
      "userId": "07460675129096291951"
     },
     "user_tz": -480
    },
    "id": "jMO4epjylBtg"
   },
   "outputs": [],
   "source": [
    "labels_list = [NotHate, Racist, Sexist, Homophobe, Religion, OtherHate]\n",
    "labels_name_list = ['NotHate', 'Racist', 'Sexist', 'Homophobe', 'Religion', 'OtherHate']"
   ]
  },
  {
   "cell_type": "code",
   "execution_count": 14,
   "metadata": {
    "executionInfo": {
     "elapsed": 1610,
     "status": "ok",
     "timestamp": 1618755605793,
     "user": {
      "displayName": "Julene Gatot",
      "photoUrl": "",
      "userId": "07460675129096291951"
     },
     "user_tz": -480
    },
    "id": "J4aq3UdZlBrL"
   },
   "outputs": [],
   "source": [
    "for i in range(len(labels_list)):\n",
    "    mmhs[labels_name_list[i]] = labels_list[i] "
   ]
  },
  {
   "cell_type": "code",
   "execution_count": null,
   "metadata": {
    "id": "oLdUMno9lBpR"
   },
   "outputs": [],
   "source": []
  },
  {
   "cell_type": "markdown",
   "metadata": {
    "id": "eSPvmDuGlJam"
   },
   "source": [
    "**Load NAACL_SRW**"
   ]
  },
  {
   "cell_type": "code",
   "execution_count": 15,
   "metadata": {
    "executionInfo": {
     "elapsed": 3441,
     "status": "ok",
     "timestamp": 1618755610871,
     "user": {
      "displayName": "Julene Gatot",
      "photoUrl": "",
      "userId": "07460675129096291951"
     },
     "user_tz": -480
    },
    "id": "RC9-p9xMlBnI"
   },
   "outputs": [],
   "source": [
    "naacl = pd.read_excel(\"/content/drive/My Drive/Colab Notebooks/Group Project/NAACL_SRW_2016.xlsx\", index_col = 0)"
   ]
  },
  {
   "cell_type": "code",
   "execution_count": 16,
   "metadata": {
    "executionInfo": {
     "elapsed": 3106,
     "status": "ok",
     "timestamp": 1618755610878,
     "user": {
      "displayName": "Julene Gatot",
      "photoUrl": "",
      "userId": "07460675129096291951"
     },
     "user_tz": -480
    },
    "id": "ek03LlVglBlL"
   },
   "outputs": [],
   "source": [
    "naacl.reset_index(drop=True, inplace=True)"
   ]
  },
  {
   "cell_type": "code",
   "execution_count": 17,
   "metadata": {
    "colab": {
     "base_uri": "https://localhost:8080/"
    },
    "executionInfo": {
     "elapsed": 2630,
     "status": "ok",
     "timestamp": 1618755610881,
     "user": {
      "displayName": "Julene Gatot",
      "photoUrl": "",
      "userId": "07460675129096291951"
     },
     "user_tz": -480
    },
    "id": "zZyFrT-ylBjY",
    "outputId": "38a1887f-5695-48ac-e6ab-0a00bdbb1d0b"
   },
   "outputs": [
    {
     "name": "stdout",
     "output_type": "stream",
     "text": [
      "The NAACL_SRW_2016 dataset has 16035 data points.\n"
     ]
    }
   ],
   "source": [
    "print('The NAACL_SRW_2016 dataset has ' + str(len(naacl)) + ' data points.' )"
   ]
  },
  {
   "cell_type": "code",
   "execution_count": 18,
   "metadata": {
    "colab": {
     "base_uri": "https://localhost:8080/"
    },
    "executionInfo": {
     "elapsed": 1407,
     "status": "ok",
     "timestamp": 1618755610884,
     "user": {
      "displayName": "Julene Gatot",
      "photoUrl": "",
      "userId": "07460675129096291951"
     },
     "user_tz": -480
    },
    "id": "uxKjlPUIkBLV",
    "outputId": "a7b76221-01eb-4310-a571-de3771bb9fa6"
   },
   "outputs": [
    {
     "data": {
      "text/plain": [
       "none      10933\n",
       "sexism     3167\n",
       "racism     1935\n",
       "Name: Label, dtype: int64"
      ]
     },
     "execution_count": 18,
     "metadata": {
      "tags": []
     },
     "output_type": "execute_result"
    }
   ],
   "source": [
    "naacl['Label'].value_counts()"
   ]
  },
  {
   "cell_type": "code",
   "execution_count": 19,
   "metadata": {
    "executionInfo": {
     "elapsed": 733,
     "status": "ok",
     "timestamp": 1618755610887,
     "user": {
      "displayName": "Julene Gatot",
      "photoUrl": "",
      "userId": "07460675129096291951"
     },
     "user_tz": -480
    },
    "id": "ataHTbSukAsc"
   },
   "outputs": [],
   "source": [
    "NotHate_2 = [1 if 'none' in i else 0 for i in naacl['Label']]\n",
    "Racist_2 = [1 if 'racism' in i else 0 for i in naacl['Label']]\n",
    "Sexist_2 = [1 if 'sexism' in i else 0 for i in naacl['Label']]"
   ]
  },
  {
   "cell_type": "code",
   "execution_count": 20,
   "metadata": {
    "executionInfo": {
     "elapsed": 809,
     "status": "ok",
     "timestamp": 1618755611461,
     "user": {
      "displayName": "Julene Gatot",
      "photoUrl": "",
      "userId": "07460675129096291951"
     },
     "user_tz": -480
    },
    "id": "6kMY0OakkAJf"
   },
   "outputs": [],
   "source": [
    "naacl['NotHate'] = NotHate_2\n",
    "naacl['Racist'] = Racist_2\n",
    "naacl['Sexist'] = Sexist_2"
   ]
  },
  {
   "cell_type": "markdown",
   "metadata": {
    "id": "8NVVflTBliZi"
   },
   "source": [
    "### Joining the 2 datasets"
   ]
  },
  {
   "cell_type": "code",
   "execution_count": 21,
   "metadata": {
    "executionInfo": {
     "elapsed": 1032,
     "status": "ok",
     "timestamp": 1618755613687,
     "user": {
      "displayName": "Julene Gatot",
      "photoUrl": "",
      "userId": "07460675129096291951"
     },
     "user_tz": -480
    },
    "id": "seOQZsLNliPz"
   },
   "outputs": [],
   "source": [
    "mmhs.rename(columns={'tweet_text':'Tweets'}, inplace=True)"
   ]
  },
  {
   "cell_type": "code",
   "execution_count": 22,
   "metadata": {
    "executionInfo": {
     "elapsed": 1205,
     "status": "ok",
     "timestamp": 1618755614306,
     "user": {
      "displayName": "Julene Gatot",
      "photoUrl": "",
      "userId": "07460675129096291951"
     },
     "user_tz": -480
    },
    "id": "3iqEBgcEliNi"
   },
   "outputs": [],
   "source": [
    "full_df = pd.concat([mmhs[['Tweets', 'NotHate', 'Racist', 'Sexist', 'Homophobe', 'Religion', 'OtherHate']], naacl[['Tweets', 'NotHate', 'Racist', 'Sexist']]], ignore_index=True).fillna(0)"
   ]
  },
  {
   "cell_type": "code",
   "execution_count": 23,
   "metadata": {
    "executionInfo": {
     "elapsed": 1568,
     "status": "ok",
     "timestamp": 1618755615098,
     "user": {
      "displayName": "Julene Gatot",
      "photoUrl": "",
      "userId": "07460675129096291951"
     },
     "user_tz": -480
    },
    "id": "HIg57HOwliL7"
   },
   "outputs": [],
   "source": [
    "full_df[labels_name_list] = full_df[labels_name_list].astype(int)"
   ]
  },
  {
   "cell_type": "code",
   "execution_count": 24,
   "metadata": {
    "colab": {
     "base_uri": "https://localhost:8080/"
    },
    "executionInfo": {
     "elapsed": 1642,
     "status": "ok",
     "timestamp": 1618755615593,
     "user": {
      "displayName": "Julene Gatot",
      "photoUrl": "",
      "userId": "07460675129096291951"
     },
     "user_tz": -480
    },
    "id": "oz-riohvliKP",
    "outputId": "4bf4e09f-b351-41ba-e44b-2d36d38bcd91"
   },
   "outputs": [
    {
     "name": "stdout",
     "output_type": "stream",
     "text": [
      "The full dataset has 165858 data points.\n"
     ]
    }
   ],
   "source": [
    "print('The full dataset has ' + str(len(full_df)) + ' data points.' )"
   ]
  },
  {
   "cell_type": "code",
   "execution_count": null,
   "metadata": {
    "id": "7IIMv8kjliIb"
   },
   "outputs": [],
   "source": []
  },
  {
   "cell_type": "markdown",
   "metadata": {
    "id": "Wc7rzPIblpKD"
   },
   "source": [
    "# Data Pre-Processing\n",
    "Basic cleaning: Remove punctuation, hyperlinks, usernames (words after @), word accents. Lowercase tweets.\n"
   ]
  },
  {
   "cell_type": "code",
   "execution_count": 25,
   "metadata": {
    "executionInfo": {
     "elapsed": 838,
     "status": "ok",
     "timestamp": 1618755616953,
     "user": {
      "displayName": "Julene Gatot",
      "photoUrl": "",
      "userId": "07460675129096291951"
     },
     "user_tz": -480
    },
    "id": "0AOyVYDZliGS"
   },
   "outputs": [],
   "source": [
    "shrink_whitespace_reg = re.compile(r'\\s{2,}')"
   ]
  },
  {
   "cell_type": "code",
   "execution_count": 26,
   "metadata": {
    "executionInfo": {
     "elapsed": 1048,
     "status": "ok",
     "timestamp": 1618755617539,
     "user": {
      "displayName": "Julene Gatot",
      "photoUrl": "",
      "userId": "07460675129096291951"
     },
     "user_tz": -480
    },
    "id": "VlvmwVN5liEa"
   },
   "outputs": [],
   "source": [
    "def decontracted(phrase):\n",
    "    # specific\n",
    "    phrase = re.sub(r\"(won't|won’t)\", \"will not\", phrase)\n",
    "    phrase = re.sub(r\"(can't|can’t)\", \"can not\", phrase)\n",
    "\n",
    "    # general\n",
    "    phrase = re.sub(r\"n(\\'|\\’)t\", \" not\", phrase)\n",
    "    phrase = re.sub(r\"(\\'|\\’)re\", \" are\", phrase)\n",
    "    phrase = re.sub(r\"(\\'|\\’)s\", \" is\", phrase)\n",
    "    phrase = re.sub(r\"(\\'|\\’)d\", \" would\", phrase)\n",
    "    phrase = re.sub(r\"(\\'|\\’)ll\", \" will\", phrase)\n",
    "    phrase = re.sub(r\"(\\'|\\’)t\", \" not\", phrase)\n",
    "    phrase = re.sub(r\"(\\'|\\’)ve\", \" have\", phrase)\n",
    "    phrase = re.sub(r\"(\\'|\\’)m\", \" am\", phrase)\n",
    "    return phrase"
   ]
  },
  {
   "cell_type": "markdown",
   "metadata": {
    "id": "_pFPrhlamjve"
   },
   "source": [
    "Retaining Emojis in our Pre-Processing steps for Hypothesis testing.\n",
    "They will be removed right before model training."
   ]
  },
  {
   "cell_type": "code",
   "execution_count": 27,
   "metadata": {
    "executionInfo": {
     "elapsed": 954,
     "status": "ok",
     "timestamp": 1618755618817,
     "user": {
      "displayName": "Julene Gatot",
      "photoUrl": "",
      "userId": "07460675129096291951"
     },
     "user_tz": -480
    },
    "id": "vOxzDkBBliCg"
   },
   "outputs": [],
   "source": [
    "emoji_pat = '[\\U0001F300-\\U0001F64F\\U0001F680-\\U0001F6FF\\u2600-\\u26FF\\u2700-\\u27BF]'\n",
    "\n",
    "def clean_tweets_emoji(tweet):\n",
    "    clean = str(tweet).lower() # lowercase tweets\n",
    "    clean = decontracted(clean) # decontract tweets\n",
    "    clean = re.sub(r'@[\\w+]*', '', clean) # remove usernames\n",
    "    clean = re.sub(r\"http\\S+\", \"\", clean) # remove hyperlinks\n",
    "\n",
    "    reg = re.compile(r'({})|[^a-zA-Z]'.format(emoji_pat)) \n",
    "    clean = reg.sub(lambda x: ' {} '.format(x.group(1)) if x.group(1) else ' ', clean)\n",
    "    clean = clean.strip()\n",
    "    \n",
    "    return shrink_whitespace_reg.sub(' ', clean)"
   ]
  },
  {
   "cell_type": "code",
   "execution_count": 28,
   "metadata": {
    "executionInfo": {
     "elapsed": 6205,
     "status": "ok",
     "timestamp": 1618755629446,
     "user": {
      "displayName": "Julene Gatot",
      "photoUrl": "",
      "userId": "07460675129096291951"
     },
     "user_tz": -480
    },
    "id": "UrKUDXU3liAo"
   },
   "outputs": [],
   "source": [
    "full_df['clean_tweets_emoji'] = full_df['Tweets'].apply(lambda x: clean_tweets_emoji(x))"
   ]
  },
  {
   "cell_type": "code",
   "execution_count": null,
   "metadata": {
    "id": "wvNjZPG2Yoil"
   },
   "outputs": [],
   "source": []
  },
  {
   "cell_type": "markdown",
   "metadata": {
    "id": "M1VOd80Sm44k"
   },
   "source": [
    "### Tokenize and Lemmatize Tweets\n",
    "\n",
    "- Tokenize: Using TweetTokenizer\n",
    "- Lemmatize: By mapping tokens to their POS tag, and getting the base POS (using first alphabet)"
   ]
  },
  {
   "cell_type": "code",
   "execution_count": 29,
   "metadata": {
    "executionInfo": {
     "elapsed": 2376,
     "status": "ok",
     "timestamp": 1618755629452,
     "user": {
      "displayName": "Julene Gatot",
      "photoUrl": "",
      "userId": "07460675129096291951"
     },
     "user_tz": -480
    },
    "id": "J3uQVoPIlh-j"
   },
   "outputs": [],
   "source": [
    "def get_wordnet_pos(word):\n",
    "    \"\"\"Map POS tag to first character lemmatize() accepts\"\"\"\n",
    "    tag = nltk.pos_tag([word])[0][1][0].upper()\n",
    "    tag_dict = {\"J\": wordnet.ADJ,\n",
    "                \"N\": wordnet.NOUN,\n",
    "                \"V\": wordnet.VERB,\n",
    "                \"R\": wordnet.ADV}\n",
    "\n",
    "    return tag_dict.get(tag, wordnet.NOUN)"
   ]
  },
  {
   "cell_type": "code",
   "execution_count": 30,
   "metadata": {
    "executionInfo": {
     "elapsed": 1291,
     "status": "ok",
     "timestamp": 1618755629454,
     "user": {
      "displayName": "Julene Gatot",
      "photoUrl": "",
      "userId": "07460675129096291951"
     },
     "user_tz": -480
    },
    "id": "gkMmqSixlh8x"
   },
   "outputs": [],
   "source": [
    "tknzr = TweetTokenizer()\n",
    "lemmatizer = WordNetLemmatizer()"
   ]
  },
  {
   "cell_type": "code",
   "execution_count": 34,
   "metadata": {
    "colab": {
     "base_uri": "https://localhost:8080/"
    },
    "executionInfo": {
     "elapsed": 1627,
     "status": "ok",
     "timestamp": 1618755672580,
     "user": {
      "displayName": "Julene Gatot",
      "photoUrl": "",
      "userId": "07460675129096291951"
     },
     "user_tz": -480
    },
    "id": "oA1nFZ6YWx2N",
    "outputId": "af2fce24-3b05-4a7d-efc5-eb2234b5681c"
   },
   "outputs": [
    {
     "name": "stdout",
     "output_type": "stream",
     "text": [
      "[nltk_data] Downloading package averaged_perceptron_tagger to\n",
      "[nltk_data]     /root/nltk_data...\n",
      "[nltk_data]   Package averaged_perceptron_tagger is already up-to-\n",
      "[nltk_data]       date!\n",
      "[nltk_data] Downloading package wordnet to /root/nltk_data...\n",
      "[nltk_data]   Unzipping corpora/wordnet.zip.\n"
     ]
    },
    {
     "data": {
      "text/plain": [
       "True"
      ]
     },
     "execution_count": 34,
     "metadata": {
      "tags": []
     },
     "output_type": "execute_result"
    }
   ],
   "source": [
    "nltk.download('averaged_perceptron_tagger')\n",
    "nltk.download('wordnet')"
   ]
  },
  {
   "cell_type": "code",
   "execution_count": 35,
   "metadata": {
    "executionInfo": {
     "elapsed": 252322,
     "status": "ok",
     "timestamp": 1618755926739,
     "user": {
      "displayName": "Julene Gatot",
      "photoUrl": "",
      "userId": "07460675129096291951"
     },
     "user_tz": -480
    },
    "id": "P_Qjn5pGlh3g"
   },
   "outputs": [],
   "source": [
    "tweets_emoji_lemma = [[lemmatizer.lemmatize(token, get_wordnet_pos(token)) for token in tknzr.tokenize(tweet)] for tweet in full_df['clean_tweets_emoji']]"
   ]
  },
  {
   "cell_type": "markdown",
   "metadata": {
    "id": "qPLbBRoqnpPL"
   },
   "source": [
    "### Remove Stopwords\n",
    "* Adding \"rt\" (retweet) to stopword list as it has no predictive power"
   ]
  },
  {
   "cell_type": "code",
   "execution_count": 37,
   "metadata": {
    "executionInfo": {
     "elapsed": 1123,
     "status": "ok",
     "timestamp": 1618755981278,
     "user": {
      "displayName": "Julene Gatot",
      "photoUrl": "",
      "userId": "07460675129096291951"
     },
     "user_tz": -480
    },
    "id": "hIuWWT9Kno2G"
   },
   "outputs": [],
   "source": [
    "stopword_list = stopwords.words('english')"
   ]
  },
  {
   "cell_type": "code",
   "execution_count": 38,
   "metadata": {
    "executionInfo": {
     "elapsed": 1463,
     "status": "ok",
     "timestamp": 1618755983369,
     "user": {
      "displayName": "Julene Gatot",
      "photoUrl": "",
      "userId": "07460675129096291951"
     },
     "user_tz": -480
    },
    "id": "vCojvDXNno0P"
   },
   "outputs": [],
   "source": [
    "stopword_list.append('rt')"
   ]
  },
  {
   "cell_type": "code",
   "execution_count": 39,
   "metadata": {
    "executionInfo": {
     "elapsed": 5469,
     "status": "ok",
     "timestamp": 1618755990472,
     "user": {
      "displayName": "Julene Gatot",
      "photoUrl": "",
      "userId": "07460675129096291951"
     },
     "user_tz": -480
    },
    "id": "LnfgmUkDnoyK"
   },
   "outputs": [],
   "source": [
    "# Remove stopwords\n",
    "tweets_emoji_train = [[w for w in t if w not in stopword_list] for t in tweets_emoji_lemma]"
   ]
  },
  {
   "cell_type": "code",
   "execution_count": null,
   "metadata": {
    "id": "P_bYEaRpnowZ"
   },
   "outputs": [],
   "source": [
    "# Joining back to df"
   ]
  },
  {
   "cell_type": "code",
   "execution_count": 40,
   "metadata": {
    "executionInfo": {
     "elapsed": 1508,
     "status": "ok",
     "timestamp": 1618756006439,
     "user": {
      "displayName": "Julene Gatot",
      "photoUrl": "",
      "userId": "07460675129096291951"
     },
     "user_tz": -480
    },
    "id": "YbREA8IAnouV"
   },
   "outputs": [],
   "source": [
    "full_df['tweets_emoji_train'] = tweets_emoji_train\n",
    "full_df['tweets_emoji_train'] = full_df['tweets_emoji_train'].apply(lambda x: ' '.join([w for w in x]))"
   ]
  },
  {
   "cell_type": "code",
   "execution_count": null,
   "metadata": {
    "id": "itPNNi_HbY3o"
   },
   "outputs": [],
   "source": []
  },
  {
   "cell_type": "markdown",
   "metadata": {
    "id": "lZzw4iUGoAy0"
   },
   "source": [
    "**Replace Emojis with Emoji name**"
   ]
  },
  {
   "cell_type": "code",
   "execution_count": 41,
   "metadata": {
    "colab": {
     "base_uri": "https://localhost:8080/"
    },
    "executionInfo": {
     "elapsed": 1453,
     "status": "ok",
     "timestamp": 1618756009444,
     "user": {
      "displayName": "Julene Gatot",
      "photoUrl": "",
      "userId": "07460675129096291951"
     },
     "user_tz": -480
    },
    "id": "o78OAp7joAcp",
    "outputId": "d791c5d2-014e-43ae-d01b-6b9750345565"
   },
   "outputs": [
    {
     "name": "stdout",
     "output_type": "stream",
     "text": [
      "Downloading emoji data ...\n",
      "... OK (Got response in 0.52 seconds)\n",
      "Writing emoji data to /root/.demoji/codes.json ...\n",
      "... OK\n"
     ]
    }
   ],
   "source": [
    "demoji.download_codes()"
   ]
  },
  {
   "cell_type": "code",
   "execution_count": 42,
   "metadata": {
    "executionInfo": {
     "elapsed": 819,
     "status": "ok",
     "timestamp": 1618756011851,
     "user": {
      "displayName": "Julene Gatot",
      "photoUrl": "",
      "userId": "07460675129096291951"
     },
     "user_tz": -480
    },
    "id": "ANgzoGUmnosb"
   },
   "outputs": [],
   "source": [
    "def replace_emoji(tweet):\n",
    "    for emoji, word in demoji.findall(tweet).items():\n",
    "        tweet = tweet.replace(emoji, re.sub(' ', '_', word))\n",
    "    return tweet"
   ]
  },
  {
   "cell_type": "code",
   "execution_count": 43,
   "metadata": {
    "executionInfo": {
     "elapsed": 49150,
     "status": "ok",
     "timestamp": 1618756077107,
     "user": {
      "displayName": "Julene Gatot",
      "photoUrl": "",
      "userId": "07460675129096291951"
     },
     "user_tz": -480
    },
    "id": "F9Iqopy5noq4"
   },
   "outputs": [],
   "source": [
    "full_df['tweets_emoji_train'] = full_df['tweets_emoji_train'].apply(lambda x: replace_emoji(x))"
   ]
  },
  {
   "cell_type": "code",
   "execution_count": null,
   "metadata": {
    "id": "MpVegrZBnook"
   },
   "outputs": [],
   "source": []
  },
  {
   "cell_type": "markdown",
   "metadata": {
    "id": "Nc2ffy_uYNIU"
   },
   "source": [
    "**Remove Emojis**"
   ]
  },
  {
   "cell_type": "code",
   "execution_count": 67,
   "metadata": {
    "executionInfo": {
     "elapsed": 1018,
     "status": "ok",
     "timestamp": 1618757313398,
     "user": {
      "displayName": "Julene Gatot",
      "photoUrl": "",
      "userId": "07460675129096291951"
     },
     "user_tz": -480
    },
    "id": "2AaNZsk8noiS"
   },
   "outputs": [],
   "source": [
    "def remove_emoji(tweet):\n",
    "  reg = re.compile(r'({})|[^a-zA-Z]'.format(emoji_pat)) \n",
    "  clean = reg.sub(r' ', tweet)\n",
    "  clean = clean.strip()\n",
    "  return shrink_whitespace_reg.sub(' ', clean)"
   ]
  },
  {
   "cell_type": "code",
   "execution_count": 70,
   "metadata": {
    "executionInfo": {
     "elapsed": 938,
     "status": "ok",
     "timestamp": 1618757430732,
     "user": {
      "displayName": "Julene Gatot",
      "photoUrl": "",
      "userId": "07460675129096291951"
     },
     "user_tz": -480
    },
    "id": "l6SF_b4JdXrc"
   },
   "outputs": [],
   "source": [
    "full_df.rename(columns={'clean_tweets_emoji': 'tweets_train'}, inplace=True)"
   ]
  },
  {
   "cell_type": "code",
   "execution_count": 72,
   "metadata": {
    "executionInfo": {
     "elapsed": 1976,
     "status": "ok",
     "timestamp": 1618757462587,
     "user": {
      "displayName": "Julene Gatot",
      "photoUrl": "",
      "userId": "07460675129096291951"
     },
     "user_tz": -480
    },
    "id": "wnRgnufpnofx"
   },
   "outputs": [],
   "source": [
    "full_df['tweets_train'] = tweets_emoji_train\n",
    "full_df['tweets_train'] = full_df['tweets_train'].apply(lambda x: ' '.join([w for w in x]))\n",
    "full_df['tweets_train'] = full_df['tweets_train'].apply(lambda x: remove_emoji(x))"
   ]
  },
  {
   "cell_type": "code",
   "execution_count": null,
   "metadata": {
    "id": "LAj97QXgnoZn"
   },
   "outputs": [],
   "source": []
  },
  {
   "cell_type": "markdown",
   "metadata": {
    "id": "54Uf15A-du5G"
   },
   "source": [
    "# Remove tweets with length <= 3"
   ]
  },
  {
   "cell_type": "code",
   "execution_count": 75,
   "metadata": {
    "executionInfo": {
     "elapsed": 1347,
     "status": "ok",
     "timestamp": 1618757643015,
     "user": {
      "displayName": "Julene Gatot",
      "photoUrl": "",
      "userId": "07460675129096291951"
     },
     "user_tz": -480
    },
    "id": "i0P3ob2Pdui8"
   },
   "outputs": [],
   "source": [
    "length = []\n",
    "\n",
    "for i in full_df['tweets_train'].str.split(' '):\n",
    "    length.append(len(i))\n",
    "\n",
    "full_df['length'] = length\n",
    "\n",
    "full_clean_df = full_df[full_df['length'] >= 3].reset_index(drop=True)"
   ]
  },
  {
   "cell_type": "code",
   "execution_count": 79,
   "metadata": {
    "executionInfo": {
     "elapsed": 954,
     "status": "ok",
     "timestamp": 1618757762376,
     "user": {
      "displayName": "Julene Gatot",
      "photoUrl": "",
      "userId": "07460675129096291951"
     },
     "user_tz": -480
    },
    "id": "5vi4pM32duhP"
   },
   "outputs": [],
   "source": [
    "full_clean_df.drop(labels='length', axis=1, inplace=True)"
   ]
  },
  {
   "cell_type": "code",
   "execution_count": null,
   "metadata": {
    "id": "7QDi3BMTdufV"
   },
   "outputs": [],
   "source": []
  },
  {
   "cell_type": "markdown",
   "metadata": {
    "id": "q0gOzkU5ecDy"
   },
   "source": [
    "# Create Train Data Hypothesis Testing of removing \"nigga\""
   ]
  },
  {
   "cell_type": "code",
   "execution_count": 80,
   "metadata": {
    "colab": {
     "base_uri": "https://localhost:8080/",
     "height": 419
    },
    "executionInfo": {
     "elapsed": 899,
     "status": "ok",
     "timestamp": 1618757765518,
     "user": {
      "displayName": "Julene Gatot",
      "photoUrl": "",
      "userId": "07460675129096291951"
     },
     "user_tz": -480
    },
    "id": "Z4VjJjbUdudu",
    "outputId": "c47c380f-69ec-4727-cb97-56ecf0011fe2"
   },
   "outputs": [
    {
     "data": {
      "text/html": [
       "<div>\n",
       "<style scoped>\n",
       "    .dataframe tbody tr th:only-of-type {\n",
       "        vertical-align: middle;\n",
       "    }\n",
       "\n",
       "    .dataframe tbody tr th {\n",
       "        vertical-align: top;\n",
       "    }\n",
       "\n",
       "    .dataframe thead th {\n",
       "        text-align: right;\n",
       "    }\n",
       "</style>\n",
       "<table border=\"1\" class=\"dataframe\">\n",
       "  <thead>\n",
       "    <tr style=\"text-align: right;\">\n",
       "      <th></th>\n",
       "      <th>Tweets</th>\n",
       "      <th>NotHate</th>\n",
       "      <th>Racist</th>\n",
       "      <th>Sexist</th>\n",
       "      <th>Homophobe</th>\n",
       "      <th>Religion</th>\n",
       "      <th>OtherHate</th>\n",
       "      <th>tweets_train</th>\n",
       "      <th>tweets_emoji_train</th>\n",
       "    </tr>\n",
       "  </thead>\n",
       "  <tbody>\n",
       "    <tr>\n",
       "      <th>0</th>\n",
       "      <td>“NIGGA ON MA MOMMA YOUNGBOY BE SPITTING REAL S...</td>\n",
       "      <td>1</td>\n",
       "      <td>0</td>\n",
       "      <td>0</td>\n",
       "      <td>0</td>\n",
       "      <td>0</td>\n",
       "      <td>0</td>\n",
       "      <td>nigga momma youngboy spit real shit nigga</td>\n",
       "      <td>nigga momma youngboy spit real shit nigga</td>\n",
       "    </tr>\n",
       "    <tr>\n",
       "      <th>1</th>\n",
       "      <td>RT xxSuGVNGxx: I ran into this HOLY NIGGA TODA...</td>\n",
       "      <td>1</td>\n",
       "      <td>1</td>\n",
       "      <td>0</td>\n",
       "      <td>0</td>\n",
       "      <td>0</td>\n",
       "      <td>0</td>\n",
       "      <td>xxsugvngxx ran holy nigga today</td>\n",
       "      <td>xxsugvngxx ran holy nigga today loudly_crying_...</td>\n",
       "    </tr>\n",
       "    <tr>\n",
       "      <th>2</th>\n",
       "      <td>“EVERYbody calling you Nigger now!” https://t....</td>\n",
       "      <td>1</td>\n",
       "      <td>1</td>\n",
       "      <td>0</td>\n",
       "      <td>0</td>\n",
       "      <td>0</td>\n",
       "      <td>0</td>\n",
       "      <td>everybody call nigger</td>\n",
       "      <td>everybody call nigger</td>\n",
       "    </tr>\n",
       "    <tr>\n",
       "      <th>3</th>\n",
       "      <td>“ real ass bitch give a fuck boutta nigga” htt...</td>\n",
       "      <td>1</td>\n",
       "      <td>0</td>\n",
       "      <td>0</td>\n",
       "      <td>0</td>\n",
       "      <td>0</td>\n",
       "      <td>0</td>\n",
       "      <td>real bitch give fuck boutta nigga</td>\n",
       "      <td>real bitch give fuck boutta nigga</td>\n",
       "    </tr>\n",
       "    <tr>\n",
       "      <th>4</th>\n",
       "      <td>@WhiteHouse @realDonaldTrump Fuck ice. White s...</td>\n",
       "      <td>0</td>\n",
       "      <td>1</td>\n",
       "      <td>0</td>\n",
       "      <td>0</td>\n",
       "      <td>0</td>\n",
       "      <td>1</td>\n",
       "      <td>fuck ice white supremacist trash racist garbage</td>\n",
       "      <td>fuck ice white supremacist trash racist garbage</td>\n",
       "    </tr>\n",
       "    <tr>\n",
       "      <th>...</th>\n",
       "      <td>...</td>\n",
       "      <td>...</td>\n",
       "      <td>...</td>\n",
       "      <td>...</td>\n",
       "      <td>...</td>\n",
       "      <td>...</td>\n",
       "      <td>...</td>\n",
       "      <td>...</td>\n",
       "      <td>...</td>\n",
       "    </tr>\n",
       "    <tr>\n",
       "      <th>143272</th>\n",
       "      <td>RT @niamh_bull: #katandandre #mkr far out if s...</td>\n",
       "      <td>0</td>\n",
       "      <td>0</td>\n",
       "      <td>1</td>\n",
       "      <td>0</td>\n",
       "      <td>0</td>\n",
       "      <td>0</td>\n",
       "      <td>katandandre mkr far someone let whoop u grrrrrr</td>\n",
       "      <td>katandandre mkr far someone let whoop u grrrrrr</td>\n",
       "    </tr>\n",
       "    <tr>\n",
       "      <th>143273</th>\n",
       "      <td>BAHAHAHA!  OMG.. Kat has no idea.... NONE!!!  ...</td>\n",
       "      <td>0</td>\n",
       "      <td>0</td>\n",
       "      <td>1</td>\n",
       "      <td>0</td>\n",
       "      <td>0</td>\n",
       "      <td>0</td>\n",
       "      <td>bahahaha omg kat idea none mkr</td>\n",
       "      <td>bahahaha omg kat idea none mkr</td>\n",
       "    </tr>\n",
       "    <tr>\n",
       "      <th>143274</th>\n",
       "      <td>RT @daniel_kaye: It's not Kat and Andre - it's...</td>\n",
       "      <td>0</td>\n",
       "      <td>0</td>\n",
       "      <td>1</td>\n",
       "      <td>0</td>\n",
       "      <td>0</td>\n",
       "      <td>0</td>\n",
       "      <td>kat andre cuntandandre tweeps get hashtag go mkr</td>\n",
       "      <td>kat andre cuntandandre tweeps get hashtag go mkr</td>\n",
       "    </tr>\n",
       "    <tr>\n",
       "      <th>143275</th>\n",
       "      <td>Never mind nails down a chalk board, all you n...</td>\n",
       "      <td>0</td>\n",
       "      <td>0</td>\n",
       "      <td>1</td>\n",
       "      <td>0</td>\n",
       "      <td>0</td>\n",
       "      <td>0</td>\n",
       "      <td>never mind nail chalk board need annie voice s...</td>\n",
       "      <td>never mind nail chalk board need annie voice s...</td>\n",
       "    </tr>\n",
       "    <tr>\n",
       "      <th>143276</th>\n",
       "      <td>I HATE KAT SO MUCH #mkr</td>\n",
       "      <td>0</td>\n",
       "      <td>0</td>\n",
       "      <td>1</td>\n",
       "      <td>0</td>\n",
       "      <td>0</td>\n",
       "      <td>0</td>\n",
       "      <td>hate kat much mkr</td>\n",
       "      <td>hate kat much mkr</td>\n",
       "    </tr>\n",
       "  </tbody>\n",
       "</table>\n",
       "<p>143277 rows × 9 columns</p>\n",
       "</div>"
      ],
      "text/plain": [
       "                                                   Tweets  ...                                 tweets_emoji_train\n",
       "0       “NIGGA ON MA MOMMA YOUNGBOY BE SPITTING REAL S...  ...          nigga momma youngboy spit real shit nigga\n",
       "1       RT xxSuGVNGxx: I ran into this HOLY NIGGA TODA...  ...  xxsugvngxx ran holy nigga today loudly_crying_...\n",
       "2       “EVERYbody calling you Nigger now!” https://t....  ...                              everybody call nigger\n",
       "3       “ real ass bitch give a fuck boutta nigga” htt...  ...                  real bitch give fuck boutta nigga\n",
       "4       @WhiteHouse @realDonaldTrump Fuck ice. White s...  ...    fuck ice white supremacist trash racist garbage\n",
       "...                                                   ...  ...                                                ...\n",
       "143272  RT @niamh_bull: #katandandre #mkr far out if s...  ...    katandandre mkr far someone let whoop u grrrrrr\n",
       "143273  BAHAHAHA!  OMG.. Kat has no idea.... NONE!!!  ...  ...                     bahahaha omg kat idea none mkr\n",
       "143274  RT @daniel_kaye: It's not Kat and Andre - it's...  ...   kat andre cuntandandre tweeps get hashtag go mkr\n",
       "143275  Never mind nails down a chalk board, all you n...  ...  never mind nail chalk board need annie voice s...\n",
       "143276                            I HATE KAT SO MUCH #mkr  ...                                  hate kat much mkr\n",
       "\n",
       "[143277 rows x 9 columns]"
      ]
     },
     "execution_count": 80,
     "metadata": {
      "tags": []
     },
     "output_type": "execute_result"
    }
   ],
   "source": [
    "full_clean_df"
   ]
  },
  {
   "cell_type": "code",
   "execution_count": 85,
   "metadata": {
    "executionInfo": {
     "elapsed": 1376,
     "status": "ok",
     "timestamp": 1618757938034,
     "user": {
      "displayName": "Julene Gatot",
      "photoUrl": "",
      "userId": "07460675129096291951"
     },
     "user_tz": -480
    },
    "id": "Dl4vsu1fdubj"
   },
   "outputs": [],
   "source": [
    "full_clean_df['tweets_nig_train'] = full_clean_df['tweets_train'].apply(lambda x: re.sub('nigga', '', x).strip())"
   ]
  },
  {
   "cell_type": "code",
   "execution_count": 86,
   "metadata": {
    "colab": {
     "base_uri": "https://localhost:8080/",
     "height": 444
    },
    "executionInfo": {
     "elapsed": 1069,
     "status": "ok",
     "timestamp": 1618757989854,
     "user": {
      "displayName": "Julene Gatot",
      "photoUrl": "",
      "userId": "07460675129096291951"
     },
     "user_tz": -480
    },
    "id": "kQuHI7eJduZ9",
    "outputId": "dd4cb66a-ed50-4ff5-c1ae-573f561d813a"
   },
   "outputs": [
    {
     "data": {
      "text/html": [
       "<div>\n",
       "<style scoped>\n",
       "    .dataframe tbody tr th:only-of-type {\n",
       "        vertical-align: middle;\n",
       "    }\n",
       "\n",
       "    .dataframe tbody tr th {\n",
       "        vertical-align: top;\n",
       "    }\n",
       "\n",
       "    .dataframe thead th {\n",
       "        text-align: right;\n",
       "    }\n",
       "</style>\n",
       "<table border=\"1\" class=\"dataframe\">\n",
       "  <thead>\n",
       "    <tr style=\"text-align: right;\">\n",
       "      <th></th>\n",
       "      <th>Tweets</th>\n",
       "      <th>NotHate</th>\n",
       "      <th>Racist</th>\n",
       "      <th>Sexist</th>\n",
       "      <th>Homophobe</th>\n",
       "      <th>Religion</th>\n",
       "      <th>OtherHate</th>\n",
       "      <th>tweets_train</th>\n",
       "      <th>tweets_emoji_train</th>\n",
       "      <th>tweets_nig_train</th>\n",
       "    </tr>\n",
       "  </thead>\n",
       "  <tbody>\n",
       "    <tr>\n",
       "      <th>0</th>\n",
       "      <td>“NIGGA ON MA MOMMA YOUNGBOY BE SPITTING REAL S...</td>\n",
       "      <td>1</td>\n",
       "      <td>0</td>\n",
       "      <td>0</td>\n",
       "      <td>0</td>\n",
       "      <td>0</td>\n",
       "      <td>0</td>\n",
       "      <td>nigga momma youngboy spit real shit nigga</td>\n",
       "      <td>nigga momma youngboy spit real shit nigga</td>\n",
       "      <td>momma youngboy spit real shit</td>\n",
       "    </tr>\n",
       "    <tr>\n",
       "      <th>1</th>\n",
       "      <td>RT xxSuGVNGxx: I ran into this HOLY NIGGA TODA...</td>\n",
       "      <td>1</td>\n",
       "      <td>1</td>\n",
       "      <td>0</td>\n",
       "      <td>0</td>\n",
       "      <td>0</td>\n",
       "      <td>0</td>\n",
       "      <td>xxsugvngxx ran holy nigga today</td>\n",
       "      <td>xxsugvngxx ran holy nigga today loudly_crying_...</td>\n",
       "      <td>xxsugvngxx ran holy  today</td>\n",
       "    </tr>\n",
       "    <tr>\n",
       "      <th>2</th>\n",
       "      <td>“EVERYbody calling you Nigger now!” https://t....</td>\n",
       "      <td>1</td>\n",
       "      <td>1</td>\n",
       "      <td>0</td>\n",
       "      <td>0</td>\n",
       "      <td>0</td>\n",
       "      <td>0</td>\n",
       "      <td>everybody call nigger</td>\n",
       "      <td>everybody call nigger</td>\n",
       "      <td>everybody call nigger</td>\n",
       "    </tr>\n",
       "    <tr>\n",
       "      <th>3</th>\n",
       "      <td>“ real ass bitch give a fuck boutta nigga” htt...</td>\n",
       "      <td>1</td>\n",
       "      <td>0</td>\n",
       "      <td>0</td>\n",
       "      <td>0</td>\n",
       "      <td>0</td>\n",
       "      <td>0</td>\n",
       "      <td>real bitch give fuck boutta nigga</td>\n",
       "      <td>real bitch give fuck boutta nigga</td>\n",
       "      <td>real bitch give fuck boutta</td>\n",
       "    </tr>\n",
       "    <tr>\n",
       "      <th>4</th>\n",
       "      <td>@WhiteHouse @realDonaldTrump Fuck ice. White s...</td>\n",
       "      <td>0</td>\n",
       "      <td>1</td>\n",
       "      <td>0</td>\n",
       "      <td>0</td>\n",
       "      <td>0</td>\n",
       "      <td>1</td>\n",
       "      <td>fuck ice white supremacist trash racist garbage</td>\n",
       "      <td>fuck ice white supremacist trash racist garbage</td>\n",
       "      <td>fuck ice white supremacist trash racist garbage</td>\n",
       "    </tr>\n",
       "    <tr>\n",
       "      <th>5</th>\n",
       "      <td>@DefNotJerm So.... you turn to twitter for it ...</td>\n",
       "      <td>1</td>\n",
       "      <td>0</td>\n",
       "      <td>0</td>\n",
       "      <td>0</td>\n",
       "      <td>0</td>\n",
       "      <td>0</td>\n",
       "      <td>turn twitter instead beating nigga contact police</td>\n",
       "      <td>turn twitter instead beating nigga contact police</td>\n",
       "      <td>turn twitter instead beating  contact police</td>\n",
       "    </tr>\n",
       "    <tr>\n",
       "      <th>6</th>\n",
       "      <td>@WhatUpJT I swear I was waiting for her to mou...</td>\n",
       "      <td>1</td>\n",
       "      <td>0</td>\n",
       "      <td>0</td>\n",
       "      <td>0</td>\n",
       "      <td>0</td>\n",
       "      <td>0</td>\n",
       "      <td>swear wait mouth word nigger</td>\n",
       "      <td>swear wait mouth word nigger face_with_tears_o...</td>\n",
       "      <td>swear wait mouth word nigger</td>\n",
       "    </tr>\n",
       "    <tr>\n",
       "      <th>7</th>\n",
       "      <td>I’m 💯 behind you nigga u my thug brother🖤 http...</td>\n",
       "      <td>1</td>\n",
       "      <td>0</td>\n",
       "      <td>0</td>\n",
       "      <td>0</td>\n",
       "      <td>0</td>\n",
       "      <td>0</td>\n",
       "      <td>behind nigga u thug brother</td>\n",
       "      <td>hundred_points behind nigga u thug brother bla...</td>\n",
       "      <td>behind  u thug brother</td>\n",
       "    </tr>\n",
       "    <tr>\n",
       "      <th>8</th>\n",
       "      <td>bf: move your bighead 😅😂  gf: NIGGA WHAT?? THA...</td>\n",
       "      <td>0</td>\n",
       "      <td>1</td>\n",
       "      <td>1</td>\n",
       "      <td>0</td>\n",
       "      <td>0</td>\n",
       "      <td>0</td>\n",
       "      <td>bf move bighead gf nigga daddy left</td>\n",
       "      <td>bf move bighead grinning_face_with_sweat face_...</td>\n",
       "      <td>bf move bighead gf  daddy left</td>\n",
       "    </tr>\n",
       "    <tr>\n",
       "      <th>9</th>\n",
       "      <td>@OriginalSlimC This fat nigga slander is getti...</td>\n",
       "      <td>1</td>\n",
       "      <td>0</td>\n",
       "      <td>0</td>\n",
       "      <td>1</td>\n",
       "      <td>0</td>\n",
       "      <td>0</td>\n",
       "      <td>fat nigga slander get outta hand</td>\n",
       "      <td>fat nigga slander get outta hand loudly_crying...</td>\n",
       "      <td>fat  slander get outta hand</td>\n",
       "    </tr>\n",
       "  </tbody>\n",
       "</table>\n",
       "</div>"
      ],
      "text/plain": [
       "                                              Tweets  ...                                 tweets_nig_train\n",
       "0  “NIGGA ON MA MOMMA YOUNGBOY BE SPITTING REAL S...  ...                    momma youngboy spit real shit\n",
       "1  RT xxSuGVNGxx: I ran into this HOLY NIGGA TODA...  ...                       xxsugvngxx ran holy  today\n",
       "2  “EVERYbody calling you Nigger now!” https://t....  ...                            everybody call nigger\n",
       "3  “ real ass bitch give a fuck boutta nigga” htt...  ...                      real bitch give fuck boutta\n",
       "4  @WhiteHouse @realDonaldTrump Fuck ice. White s...  ...  fuck ice white supremacist trash racist garbage\n",
       "5  @DefNotJerm So.... you turn to twitter for it ...  ...     turn twitter instead beating  contact police\n",
       "6  @WhatUpJT I swear I was waiting for her to mou...  ...                     swear wait mouth word nigger\n",
       "7  I’m 💯 behind you nigga u my thug brother🖤 http...  ...                           behind  u thug brother\n",
       "8  bf: move your bighead 😅😂  gf: NIGGA WHAT?? THA...  ...                   bf move bighead gf  daddy left\n",
       "9  @OriginalSlimC This fat nigga slander is getti...  ...                      fat  slander get outta hand\n",
       "\n",
       "[10 rows x 10 columns]"
      ]
     },
     "execution_count": 86,
     "metadata": {
      "tags": []
     },
     "output_type": "execute_result"
    }
   ],
   "source": [
    "full_clean_df.head(10)"
   ]
  },
  {
   "cell_type": "code",
   "execution_count": 88,
   "metadata": {
    "executionInfo": {
     "elapsed": 46012,
     "status": "ok",
     "timestamp": 1618758083213,
     "user": {
      "displayName": "Julene Gatot",
      "photoUrl": "",
      "userId": "07460675129096291951"
     },
     "user_tz": -480
    },
    "id": "gr0pFq6fduXy"
   },
   "outputs": [],
   "source": [
    "full_clean_df.to_excel(\"/content/drive/My Drive/Colab Notebooks/Group Project/full_clean_df.xlsx\")"
   ]
  },
  {
   "cell_type": "code",
   "execution_count": null,
   "metadata": {
    "id": "O0zNejb2fuuu"
   },
   "outputs": [],
   "source": []
  }
 ],
 "metadata": {
  "colab": {
   "authorship_tag": "ABX9TyP+/tjhzdHP96k6EzwA1NYt",
   "collapsed_sections": [],
   "name": "(FINAL) Pre-Processing Steps.ipynb",
   "provenance": []
  },
  "kernelspec": {
   "display_name": "Python 3",
   "language": "python",
   "name": "python3"
  },
  "language_info": {
   "codemirror_mode": {
    "name": "ipython",
    "version": 3
   },
   "file_extension": ".py",
   "mimetype": "text/x-python",
   "name": "python",
   "nbconvert_exporter": "python",
   "pygments_lexer": "ipython3",
   "version": "3.7.3"
  }
 },
 "nbformat": 4,
 "nbformat_minor": 1
}
