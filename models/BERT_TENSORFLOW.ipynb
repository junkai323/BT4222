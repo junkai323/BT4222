{
 "cells": [
  {
   "cell_type": "markdown",
   "metadata": {
    "id": "C_XTHPWdlNUA"
   },
   "source": [
    "## Download and Import Dependencies"
   ]
  },
  {
   "cell_type": "code",
   "execution_count": 3,
   "metadata": {
    "colab": {
     "base_uri": "https://localhost:8080/"
    },
    "executionInfo": {
     "elapsed": 6251,
     "status": "ok",
     "timestamp": 1619008857282,
     "user": {
      "displayName": "Ying Jie Resources",
      "photoUrl": "",
      "userId": "16975828239835433341"
     },
     "user_tz": -480
    },
    "id": "C6zhQ6Ha7_f7",
    "outputId": "3cca8f6c-47da-4d66-ea79-80f05668fb5c"
   },
   "outputs": [
    {
     "name": "stdout",
     "output_type": "stream",
     "text": [
      "Collecting transformers\n",
      "\u001b[?25l  Downloading https://files.pythonhosted.org/packages/d8/b2/57495b5309f09fa501866e225c84532d1fd89536ea62406b2181933fb418/transformers-4.5.1-py3-none-any.whl (2.1MB)\n",
      "\r",
      "\u001b[K     |▏                               | 10kB 23.9MB/s eta 0:00:01\r",
      "\u001b[K     |▎                               | 20kB 30.7MB/s eta 0:00:01\r",
      "\u001b[K     |▌                               | 30kB 20.6MB/s eta 0:00:01\r",
      "\u001b[K     |▋                               | 40kB 24.2MB/s eta 0:00:01\r",
      "\u001b[K     |▉                               | 51kB 19.7MB/s eta 0:00:01\r",
      "\u001b[K     |█                               | 61kB 16.8MB/s eta 0:00:01\r",
      "\u001b[K     |█▏                              | 71kB 15.3MB/s eta 0:00:01\r",
      "\u001b[K     |█▎                              | 81kB 16.1MB/s eta 0:00:01\r",
      "\u001b[K     |█▍                              | 92kB 15.2MB/s eta 0:00:01\r",
      "\u001b[K     |█▋                              | 102kB 16.4MB/s eta 0:00:01\r",
      "\u001b[K     |█▊                              | 112kB 16.4MB/s eta 0:00:01\r",
      "\u001b[K     |██                              | 122kB 16.4MB/s eta 0:00:01\r",
      "\u001b[K     |██                              | 133kB 16.4MB/s eta 0:00:01\r",
      "\u001b[K     |██▎                             | 143kB 16.4MB/s eta 0:00:01\r",
      "\u001b[K     |██▍                             | 153kB 16.4MB/s eta 0:00:01\r",
      "\u001b[K     |██▌                             | 163kB 16.4MB/s eta 0:00:01\r",
      "\u001b[K     |██▊                             | 174kB 16.4MB/s eta 0:00:01\r",
      "\u001b[K     |██▉                             | 184kB 16.4MB/s eta 0:00:01\r",
      "\u001b[K     |███                             | 194kB 16.4MB/s eta 0:00:01\r",
      "\u001b[K     |███▏                            | 204kB 16.4MB/s eta 0:00:01\r",
      "\u001b[K     |███▍                            | 215kB 16.4MB/s eta 0:00:01\r",
      "\u001b[K     |███▌                            | 225kB 16.4MB/s eta 0:00:01\r",
      "\u001b[K     |███▋                            | 235kB 16.4MB/s eta 0:00:01\r",
      "\u001b[K     |███▉                            | 245kB 16.4MB/s eta 0:00:01\r",
      "\u001b[K     |████                            | 256kB 16.4MB/s eta 0:00:01\r",
      "\u001b[K     |████▏                           | 266kB 16.4MB/s eta 0:00:01\r",
      "\u001b[K     |████▎                           | 276kB 16.4MB/s eta 0:00:01\r",
      "\u001b[K     |████▌                           | 286kB 16.4MB/s eta 0:00:01\r",
      "\u001b[K     |████▋                           | 296kB 16.4MB/s eta 0:00:01\r",
      "\u001b[K     |████▊                           | 307kB 16.4MB/s eta 0:00:01\r",
      "\u001b[K     |█████                           | 317kB 16.4MB/s eta 0:00:01\r",
      "\u001b[K     |█████                           | 327kB 16.4MB/s eta 0:00:01\r",
      "\u001b[K     |█████▎                          | 337kB 16.4MB/s eta 0:00:01\r",
      "\u001b[K     |█████▍                          | 348kB 16.4MB/s eta 0:00:01\r",
      "\u001b[K     |█████▋                          | 358kB 16.4MB/s eta 0:00:01\r",
      "\u001b[K     |█████▊                          | 368kB 16.4MB/s eta 0:00:01\r",
      "\u001b[K     |█████▉                          | 378kB 16.4MB/s eta 0:00:01\r",
      "\u001b[K     |██████                          | 389kB 16.4MB/s eta 0:00:01\r",
      "\u001b[K     |██████▏                         | 399kB 16.4MB/s eta 0:00:01\r",
      "\u001b[K     |██████▍                         | 409kB 16.4MB/s eta 0:00:01\r",
      "\u001b[K     |██████▌                         | 419kB 16.4MB/s eta 0:00:01\r",
      "\u001b[K     |██████▊                         | 430kB 16.4MB/s eta 0:00:01\r",
      "\u001b[K     |██████▉                         | 440kB 16.4MB/s eta 0:00:01\r",
      "\u001b[K     |███████                         | 450kB 16.4MB/s eta 0:00:01\r",
      "\u001b[K     |███████▏                        | 460kB 16.4MB/s eta 0:00:01\r",
      "\u001b[K     |███████▎                        | 471kB 16.4MB/s eta 0:00:01\r",
      "\u001b[K     |███████▌                        | 481kB 16.4MB/s eta 0:00:01\r",
      "\u001b[K     |███████▋                        | 491kB 16.4MB/s eta 0:00:01\r",
      "\u001b[K     |███████▉                        | 501kB 16.4MB/s eta 0:00:01\r",
      "\u001b[K     |████████                        | 512kB 16.4MB/s eta 0:00:01\r",
      "\u001b[K     |████████                        | 522kB 16.4MB/s eta 0:00:01\r",
      "\u001b[K     |████████▎                       | 532kB 16.4MB/s eta 0:00:01\r",
      "\u001b[K     |████████▍                       | 542kB 16.4MB/s eta 0:00:01\r",
      "\u001b[K     |████████▋                       | 552kB 16.4MB/s eta 0:00:01\r",
      "\u001b[K     |████████▊                       | 563kB 16.4MB/s eta 0:00:01\r",
      "\u001b[K     |█████████                       | 573kB 16.4MB/s eta 0:00:01\r",
      "\u001b[K     |█████████                       | 583kB 16.4MB/s eta 0:00:01\r",
      "\u001b[K     |█████████▎                      | 593kB 16.4MB/s eta 0:00:01\r",
      "\u001b[K     |█████████▍                      | 604kB 16.4MB/s eta 0:00:01\r",
      "\u001b[K     |█████████▌                      | 614kB 16.4MB/s eta 0:00:01\r",
      "\u001b[K     |█████████▊                      | 624kB 16.4MB/s eta 0:00:01\r",
      "\u001b[K     |█████████▉                      | 634kB 16.4MB/s eta 0:00:01\r",
      "\u001b[K     |██████████                      | 645kB 16.4MB/s eta 0:00:01\r",
      "\u001b[K     |██████████▏                     | 655kB 16.4MB/s eta 0:00:01\r",
      "\u001b[K     |██████████▍                     | 665kB 16.4MB/s eta 0:00:01\r",
      "\u001b[K     |██████████▌                     | 675kB 16.4MB/s eta 0:00:01\r",
      "\u001b[K     |██████████▋                     | 686kB 16.4MB/s eta 0:00:01\r",
      "\u001b[K     |██████████▉                     | 696kB 16.4MB/s eta 0:00:01\r",
      "\u001b[K     |███████████                     | 706kB 16.4MB/s eta 0:00:01\r",
      "\u001b[K     |███████████▏                    | 716kB 16.4MB/s eta 0:00:01\r",
      "\u001b[K     |███████████▎                    | 727kB 16.4MB/s eta 0:00:01\r",
      "\u001b[K     |███████████▌                    | 737kB 16.4MB/s eta 0:00:01\r",
      "\u001b[K     |███████████▋                    | 747kB 16.4MB/s eta 0:00:01\r",
      "\u001b[K     |███████████▊                    | 757kB 16.4MB/s eta 0:00:01\r",
      "\u001b[K     |████████████                    | 768kB 16.4MB/s eta 0:00:01\r",
      "\u001b[K     |████████████                    | 778kB 16.4MB/s eta 0:00:01\r",
      "\u001b[K     |████████████▎                   | 788kB 16.4MB/s eta 0:00:01\r",
      "\u001b[K     |████████████▍                   | 798kB 16.4MB/s eta 0:00:01\r",
      "\u001b[K     |████████████▋                   | 808kB 16.4MB/s eta 0:00:01\r",
      "\u001b[K     |████████████▊                   | 819kB 16.4MB/s eta 0:00:01\r",
      "\u001b[K     |████████████▉                   | 829kB 16.4MB/s eta 0:00:01\r",
      "\u001b[K     |█████████████                   | 839kB 16.4MB/s eta 0:00:01\r",
      "\u001b[K     |█████████████▏                  | 849kB 16.4MB/s eta 0:00:01\r",
      "\u001b[K     |█████████████▍                  | 860kB 16.4MB/s eta 0:00:01\r",
      "\u001b[K     |█████████████▌                  | 870kB 16.4MB/s eta 0:00:01\r",
      "\u001b[K     |█████████████▊                  | 880kB 16.4MB/s eta 0:00:01\r",
      "\u001b[K     |█████████████▉                  | 890kB 16.4MB/s eta 0:00:01\r",
      "\u001b[K     |██████████████                  | 901kB 16.4MB/s eta 0:00:01\r",
      "\u001b[K     |██████████████▏                 | 911kB 16.4MB/s eta 0:00:01\r",
      "\u001b[K     |██████████████▎                 | 921kB 16.4MB/s eta 0:00:01\r",
      "\u001b[K     |██████████████▌                 | 931kB 16.4MB/s eta 0:00:01\r",
      "\u001b[K     |██████████████▋                 | 942kB 16.4MB/s eta 0:00:01\r",
      "\u001b[K     |██████████████▉                 | 952kB 16.4MB/s eta 0:00:01\r",
      "\u001b[K     |███████████████                 | 962kB 16.4MB/s eta 0:00:01\r",
      "\u001b[K     |███████████████                 | 972kB 16.4MB/s eta 0:00:01\r",
      "\u001b[K     |███████████████▎                | 983kB 16.4MB/s eta 0:00:01\r",
      "\u001b[K     |███████████████▍                | 993kB 16.4MB/s eta 0:00:01\r",
      "\u001b[K     |███████████████▋                | 1.0MB 16.4MB/s eta 0:00:01\r",
      "\u001b[K     |███████████████▊                | 1.0MB 16.4MB/s eta 0:00:01\r",
      "\u001b[K     |████████████████                | 1.0MB 16.4MB/s eta 0:00:01\r",
      "\u001b[K     |████████████████                | 1.0MB 16.4MB/s eta 0:00:01\r",
      "\u001b[K     |████████████████▏               | 1.0MB 16.4MB/s eta 0:00:01\r",
      "\u001b[K     |████████████████▍               | 1.1MB 16.4MB/s eta 0:00:01\r",
      "\u001b[K     |████████████████▌               | 1.1MB 16.4MB/s eta 0:00:01\r",
      "\u001b[K     |████████████████▊               | 1.1MB 16.4MB/s eta 0:00:01\r",
      "\u001b[K     |████████████████▉               | 1.1MB 16.4MB/s eta 0:00:01\r",
      "\u001b[K     |█████████████████               | 1.1MB 16.4MB/s eta 0:00:01\r",
      "\u001b[K     |█████████████████▏              | 1.1MB 16.4MB/s eta 0:00:01\r",
      "\u001b[K     |█████████████████▍              | 1.1MB 16.4MB/s eta 0:00:01\r",
      "\u001b[K     |█████████████████▌              | 1.1MB 16.4MB/s eta 0:00:01\r",
      "\u001b[K     |█████████████████▋              | 1.1MB 16.4MB/s eta 0:00:01\r",
      "\u001b[K     |█████████████████▉              | 1.1MB 16.4MB/s eta 0:00:01\r",
      "\u001b[K     |██████████████████              | 1.2MB 16.4MB/s eta 0:00:01\r",
      "\u001b[K     |██████████████████▏             | 1.2MB 16.4MB/s eta 0:00:01\r",
      "\u001b[K     |██████████████████▎             | 1.2MB 16.4MB/s eta 0:00:01\r",
      "\u001b[K     |██████████████████▌             | 1.2MB 16.4MB/s eta 0:00:01\r",
      "\u001b[K     |██████████████████▋             | 1.2MB 16.4MB/s eta 0:00:01\r",
      "\u001b[K     |██████████████████▊             | 1.2MB 16.4MB/s eta 0:00:01\r",
      "\u001b[K     |███████████████████             | 1.2MB 16.4MB/s eta 0:00:01\r",
      "\u001b[K     |███████████████████             | 1.2MB 16.4MB/s eta 0:00:01\r",
      "\u001b[K     |███████████████████▎            | 1.2MB 16.4MB/s eta 0:00:01\r",
      "\u001b[K     |███████████████████▍            | 1.2MB 16.4MB/s eta 0:00:01\r",
      "\u001b[K     |███████████████████▋            | 1.3MB 16.4MB/s eta 0:00:01\r",
      "\u001b[K     |███████████████████▊            | 1.3MB 16.4MB/s eta 0:00:01\r",
      "\u001b[K     |███████████████████▉            | 1.3MB 16.4MB/s eta 0:00:01\r",
      "\u001b[K     |████████████████████            | 1.3MB 16.4MB/s eta 0:00:01\r",
      "\u001b[K     |████████████████████▏           | 1.3MB 16.4MB/s eta 0:00:01\r",
      "\u001b[K     |████████████████████▍           | 1.3MB 16.4MB/s eta 0:00:01\r",
      "\u001b[K     |████████████████████▌           | 1.3MB 16.4MB/s eta 0:00:01\r",
      "\u001b[K     |████████████████████▊           | 1.3MB 16.4MB/s eta 0:00:01\r",
      "\u001b[K     |████████████████████▉           | 1.3MB 16.4MB/s eta 0:00:01\r",
      "\u001b[K     |█████████████████████           | 1.4MB 16.4MB/s eta 0:00:01\r",
      "\u001b[K     |█████████████████████▏          | 1.4MB 16.4MB/s eta 0:00:01\r",
      "\u001b[K     |█████████████████████▎          | 1.4MB 16.4MB/s eta 0:00:01\r",
      "\u001b[K     |█████████████████████▌          | 1.4MB 16.4MB/s eta 0:00:01\r",
      "\u001b[K     |█████████████████████▋          | 1.4MB 16.4MB/s eta 0:00:01\r",
      "\u001b[K     |█████████████████████▉          | 1.4MB 16.4MB/s eta 0:00:01\r",
      "\u001b[K     |██████████████████████          | 1.4MB 16.4MB/s eta 0:00:01\r",
      "\u001b[K     |██████████████████████          | 1.4MB 16.4MB/s eta 0:00:01\r",
      "\u001b[K     |██████████████████████▎         | 1.4MB 16.4MB/s eta 0:00:01\r",
      "\u001b[K     |██████████████████████▍         | 1.4MB 16.4MB/s eta 0:00:01\r",
      "\u001b[K     |██████████████████████▋         | 1.5MB 16.4MB/s eta 0:00:01\r",
      "\u001b[K     |██████████████████████▊         | 1.5MB 16.4MB/s eta 0:00:01\r",
      "\u001b[K     |███████████████████████         | 1.5MB 16.4MB/s eta 0:00:01\r",
      "\u001b[K     |███████████████████████         | 1.5MB 16.4MB/s eta 0:00:01\r",
      "\u001b[K     |███████████████████████▏        | 1.5MB 16.4MB/s eta 0:00:01\r",
      "\u001b[K     |███████████████████████▍        | 1.5MB 16.4MB/s eta 0:00:01\r",
      "\u001b[K     |███████████████████████▌        | 1.5MB 16.4MB/s eta 0:00:01\r",
      "\u001b[K     |███████████████████████▊        | 1.5MB 16.4MB/s eta 0:00:01\r",
      "\u001b[K     |███████████████████████▉        | 1.5MB 16.4MB/s eta 0:00:01\r",
      "\u001b[K     |████████████████████████        | 1.5MB 16.4MB/s eta 0:00:01\r",
      "\u001b[K     |████████████████████████▏       | 1.6MB 16.4MB/s eta 0:00:01\r",
      "\u001b[K     |████████████████████████▎       | 1.6MB 16.4MB/s eta 0:00:01\r",
      "\u001b[K     |████████████████████████▌       | 1.6MB 16.4MB/s eta 0:00:01\r",
      "\u001b[K     |████████████████████████▋       | 1.6MB 16.4MB/s eta 0:00:01\r",
      "\u001b[K     |████████████████████████▉       | 1.6MB 16.4MB/s eta 0:00:01\r",
      "\u001b[K     |█████████████████████████       | 1.6MB 16.4MB/s eta 0:00:01\r",
      "\u001b[K     |█████████████████████████▏      | 1.6MB 16.4MB/s eta 0:00:01\r",
      "\u001b[K     |█████████████████████████▎      | 1.6MB 16.4MB/s eta 0:00:01\r",
      "\u001b[K     |█████████████████████████▍      | 1.6MB 16.4MB/s eta 0:00:01\r",
      "\u001b[K     |█████████████████████████▋      | 1.6MB 16.4MB/s eta 0:00:01\r",
      "\u001b[K     |█████████████████████████▊      | 1.7MB 16.4MB/s eta 0:00:01\r",
      "\u001b[K     |██████████████████████████      | 1.7MB 16.4MB/s eta 0:00:01\r",
      "\u001b[K     |██████████████████████████      | 1.7MB 16.4MB/s eta 0:00:01\r",
      "\u001b[K     |██████████████████████████▎     | 1.7MB 16.4MB/s eta 0:00:01\r",
      "\u001b[K     |██████████████████████████▍     | 1.7MB 16.4MB/s eta 0:00:01\r",
      "\u001b[K     |██████████████████████████▋     | 1.7MB 16.4MB/s eta 0:00:01\r",
      "\u001b[K     |██████████████████████████▊     | 1.7MB 16.4MB/s eta 0:00:01\r",
      "\u001b[K     |██████████████████████████▉     | 1.7MB 16.4MB/s eta 0:00:01\r",
      "\u001b[K     |███████████████████████████     | 1.7MB 16.4MB/s eta 0:00:01\r",
      "\u001b[K     |███████████████████████████▏    | 1.8MB 16.4MB/s eta 0:00:01\r",
      "\u001b[K     |███████████████████████████▍    | 1.8MB 16.4MB/s eta 0:00:01\r",
      "\u001b[K     |███████████████████████████▌    | 1.8MB 16.4MB/s eta 0:00:01\r",
      "\u001b[K     |███████████████████████████▊    | 1.8MB 16.4MB/s eta 0:00:01\r",
      "\u001b[K     |███████████████████████████▉    | 1.8MB 16.4MB/s eta 0:00:01\r",
      "\u001b[K     |████████████████████████████    | 1.8MB 16.4MB/s eta 0:00:01\r",
      "\u001b[K     |████████████████████████████▏   | 1.8MB 16.4MB/s eta 0:00:01\r",
      "\u001b[K     |████████████████████████████▎   | 1.8MB 16.4MB/s eta 0:00:01\r",
      "\u001b[K     |████████████████████████████▌   | 1.8MB 16.4MB/s eta 0:00:01\r",
      "\u001b[K     |████████████████████████████▋   | 1.8MB 16.4MB/s eta 0:00:01\r",
      "\u001b[K     |████████████████████████████▉   | 1.9MB 16.4MB/s eta 0:00:01\r",
      "\u001b[K     |█████████████████████████████   | 1.9MB 16.4MB/s eta 0:00:01\r",
      "\u001b[K     |█████████████████████████████   | 1.9MB 16.4MB/s eta 0:00:01\r",
      "\u001b[K     |█████████████████████████████▎  | 1.9MB 16.4MB/s eta 0:00:01\r",
      "\u001b[K     |█████████████████████████████▍  | 1.9MB 16.4MB/s eta 0:00:01\r",
      "\u001b[K     |█████████████████████████████▋  | 1.9MB 16.4MB/s eta 0:00:01\r",
      "\u001b[K     |█████████████████████████████▊  | 1.9MB 16.4MB/s eta 0:00:01\r",
      "\u001b[K     |██████████████████████████████  | 1.9MB 16.4MB/s eta 0:00:01\r",
      "\u001b[K     |██████████████████████████████  | 1.9MB 16.4MB/s eta 0:00:01\r",
      "\u001b[K     |██████████████████████████████▏ | 1.9MB 16.4MB/s eta 0:00:01\r",
      "\u001b[K     |██████████████████████████████▍ | 2.0MB 16.4MB/s eta 0:00:01\r",
      "\u001b[K     |██████████████████████████████▌ | 2.0MB 16.4MB/s eta 0:00:01\r",
      "\u001b[K     |██████████████████████████████▊ | 2.0MB 16.4MB/s eta 0:00:01\r",
      "\u001b[K     |██████████████████████████████▉ | 2.0MB 16.4MB/s eta 0:00:01\r",
      "\u001b[K     |███████████████████████████████ | 2.0MB 16.4MB/s eta 0:00:01\r",
      "\u001b[K     |███████████████████████████████▏| 2.0MB 16.4MB/s eta 0:00:01\r",
      "\u001b[K     |███████████████████████████████▎| 2.0MB 16.4MB/s eta 0:00:01\r",
      "\u001b[K     |███████████████████████████████▌| 2.0MB 16.4MB/s eta 0:00:01\r",
      "\u001b[K     |███████████████████████████████▋| 2.0MB 16.4MB/s eta 0:00:01\r",
      "\u001b[K     |███████████████████████████████▉| 2.0MB 16.4MB/s eta 0:00:01\r",
      "\u001b[K     |████████████████████████████████| 2.1MB 16.4MB/s eta 0:00:01\r",
      "\u001b[K     |████████████████████████████████| 2.1MB 16.4MB/s \n",
      "\u001b[?25hRequirement already satisfied: regex!=2019.12.17 in /usr/local/lib/python3.7/dist-packages (from transformers) (2019.12.20)\n",
      "Requirement already satisfied: packaging in /usr/local/lib/python3.7/dist-packages (from transformers) (20.9)\n",
      "Collecting tokenizers<0.11,>=0.10.1\n",
      "\u001b[?25l  Downloading https://files.pythonhosted.org/packages/ae/04/5b870f26a858552025a62f1649c20d29d2672c02ff3c3fb4c688ca46467a/tokenizers-0.10.2-cp37-cp37m-manylinux2010_x86_64.whl (3.3MB)\n",
      "\u001b[K     |████████████████████████████████| 3.3MB 58.1MB/s \n",
      "\u001b[?25hRequirement already satisfied: filelock in /usr/local/lib/python3.7/dist-packages (from transformers) (3.0.12)\n",
      "Requirement already satisfied: numpy>=1.17 in /usr/local/lib/python3.7/dist-packages (from transformers) (1.19.5)\n",
      "Collecting sacremoses\n",
      "\u001b[?25l  Downloading https://files.pythonhosted.org/packages/75/ee/67241dc87f266093c533a2d4d3d69438e57d7a90abb216fa076e7d475d4a/sacremoses-0.0.45-py3-none-any.whl (895kB)\n",
      "\u001b[K     |████████████████████████████████| 901kB 45.8MB/s \n",
      "\u001b[?25hRequirement already satisfied: importlib-metadata; python_version < \"3.8\" in /usr/local/lib/python3.7/dist-packages (from transformers) (3.10.1)\n",
      "Requirement already satisfied: tqdm>=4.27 in /usr/local/lib/python3.7/dist-packages (from transformers) (4.41.1)\n",
      "Requirement already satisfied: requests in /usr/local/lib/python3.7/dist-packages (from transformers) (2.23.0)\n",
      "Requirement already satisfied: pyparsing>=2.0.2 in /usr/local/lib/python3.7/dist-packages (from packaging->transformers) (2.4.7)\n",
      "Requirement already satisfied: six in /usr/local/lib/python3.7/dist-packages (from sacremoses->transformers) (1.15.0)\n",
      "Requirement already satisfied: joblib in /usr/local/lib/python3.7/dist-packages (from sacremoses->transformers) (1.0.1)\n",
      "Requirement already satisfied: click in /usr/local/lib/python3.7/dist-packages (from sacremoses->transformers) (7.1.2)\n",
      "Requirement already satisfied: typing-extensions>=3.6.4; python_version < \"3.8\" in /usr/local/lib/python3.7/dist-packages (from importlib-metadata; python_version < \"3.8\"->transformers) (3.7.4.3)\n",
      "Requirement already satisfied: zipp>=0.5 in /usr/local/lib/python3.7/dist-packages (from importlib-metadata; python_version < \"3.8\"->transformers) (3.4.1)\n",
      "Requirement already satisfied: certifi>=2017.4.17 in /usr/local/lib/python3.7/dist-packages (from requests->transformers) (2020.12.5)\n",
      "Requirement already satisfied: urllib3!=1.25.0,!=1.25.1,<1.26,>=1.21.1 in /usr/local/lib/python3.7/dist-packages (from requests->transformers) (1.24.3)\n",
      "Requirement already satisfied: idna<3,>=2.5 in /usr/local/lib/python3.7/dist-packages (from requests->transformers) (2.10)\n",
      "Requirement already satisfied: chardet<4,>=3.0.2 in /usr/local/lib/python3.7/dist-packages (from requests->transformers) (3.0.4)\n",
      "Installing collected packages: tokenizers, sacremoses, transformers\n",
      "Successfully installed sacremoses-0.0.45 tokenizers-0.10.2 transformers-4.5.1\n"
     ]
    }
   ],
   "source": [
    "pip install transformers "
   ]
  },
  {
   "cell_type": "code",
   "execution_count": 4,
   "metadata": {
    "colab": {
     "base_uri": "https://localhost:8080/"
    },
    "executionInfo": {
     "elapsed": 25235,
     "status": "ok",
     "timestamp": 1619008886756,
     "user": {
      "displayName": "Ying Jie Resources",
      "photoUrl": "",
      "userId": "16975828239835433341"
     },
     "user_tz": -480
    },
    "id": "syW1nXYb744P",
    "outputId": "f12f48ba-2bd8-417a-d30a-47b8776ebef5"
   },
   "outputs": [
    {
     "name": "stdout",
     "output_type": "stream",
     "text": [
      "Mounted at /content/drive\n"
     ]
    }
   ],
   "source": [
    "import numpy as np # linear algebra\n",
    "import pandas as pd # data processing, CSV file I/O (e.g. pd.read_csv)\n",
    "from tqdm import tqdm\n",
    "from tqdm import tqdm_notebook\n",
    "\n",
    "from transformers import AutoTokenizer,BertTokenizer,TFBertModel,TFOpenAIGPTModel,OpenAIGPTTokenizer,DistilBertTokenizer, TFDistilBertModel,XLMTokenizer, TFXLMModel, TFAutoModel, AutoTokenizer\n",
    "from tokenizers import Tokenizer, models, pre_tokenizers, decoders, processors\n",
    "from sklearn.metrics import confusion_matrix, accuracy_score, auc, classification_report, f1_score\n",
    "from sklearn.model_selection import train_test_split, KFold\n",
    "\n",
    "import tensorflow_hub as hub\n",
    "import tensorflow as tf\n",
    "from tensorflow.keras.preprocessing.text import Tokenizer\n",
    "from tensorflow.keras.preprocessing.sequence import pad_sequences\n",
    "from tensorflow.keras.models import Sequential\n",
    "from tensorflow.keras.layers import *\n",
    "\n",
    "import warnings\n",
    "warnings.filterwarnings(\"ignore\")\n",
    "\n",
    "# mount google drive\n",
    "from google.colab import drive\n",
    "drive.mount('/content/drive')"
   ]
  },
  {
   "cell_type": "markdown",
   "metadata": {
    "id": "wzIKmUaq71CC"
   },
   "source": [
    "## Load Data"
   ]
  },
  {
   "cell_type": "code",
   "execution_count": 5,
   "metadata": {
    "executionInfo": {
     "elapsed": 17142,
     "status": "ok",
     "timestamp": 1619008910775,
     "user": {
      "displayName": "Ying Jie Resources",
      "photoUrl": "",
      "userId": "16975828239835433341"
     },
     "user_tz": -480
    },
    "id": "XwZhIwgw8czF"
   },
   "outputs": [],
   "source": [
    "full_clean_df = pd.read_excel(\"../data/full_clean_df.xlsx\", index_col=0)"
   ]
  },
  {
   "cell_type": "code",
   "execution_count": 6,
   "metadata": {
    "executionInfo": {
     "elapsed": 16804,
     "status": "ok",
     "timestamp": 1619008910777,
     "user": {
      "displayName": "Ying Jie Resources",
      "photoUrl": "",
      "userId": "16975828239835433341"
     },
     "user_tz": -480
    },
    "id": "Iyc5VeBn8cxN"
   },
   "outputs": [],
   "source": [
    "labels_name_list = ['NotHate', 'Racist', 'Sexist', 'Homophobe', 'Religion', 'OtherHate']"
   ]
  },
  {
   "cell_type": "markdown",
   "metadata": {
    "id": "fpUCFdoVxEw2"
   },
   "source": [
    "## Tokenize Data"
   ]
  },
  {
   "cell_type": "code",
   "execution_count": 7,
   "metadata": {
    "colab": {
     "base_uri": "https://localhost:8080/",
     "height": 164,
     "referenced_widgets": [
      "c625b4dbf684411d9fe1917f088bbea3",
      "a9037e18c2634247b87504442dfdae6c",
      "35b18ec7cd7b4a398afd6957a5ef74bc",
      "c04a7da6531541f49e9a039791303a52",
      "c782e74e202d4f4eabb06dcb74a7ea03",
      "10385056c3c8421788f6c3e38a9906eb",
      "6523e335e8884b6b8349eec43eac2510",
      "a44625fba2cb42b58ea4b4d1eef33383",
      "62dae46991064ea6a0b36b7dab5ec570",
      "044a75371ad9431a9cec9dc560693c6e",
      "3d4b9a2ee6f94cafa80d59100c99ad71",
      "ce019ce8072544abbfe7b2f7db6ea6a6",
      "007c57f5e8294519a3bb65901f412eff",
      "65cc8e3ea0a84f758f20c7b892a2d851",
      "1c175ee78a0b4832a03faad113a3d3ce",
      "5422b9ecfdac493c9024145cdeb044ff",
      "61cf43226f914647b9294b170ed91ca6",
      "287fce9939af4dd3a9902c38b502bcab",
      "d19330a68fbd479e942831a778c4a192",
      "bc127d63f64e46f89c90508b997f95be",
      "efe76eeb1d53488e991f30514890d20d",
      "321052056b8c4717b75b3bce2f7cb0f3",
      "eede47baf7e645ac9d9bffd54008faa2",
      "4842f575df34425cb256e14ca8f5c9da"
     ]
    },
    "executionInfo": {
     "elapsed": 14525,
     "status": "ok",
     "timestamp": 1619008910778,
     "user": {
      "displayName": "Ying Jie Resources",
      "photoUrl": "",
      "userId": "16975828239835433341"
     },
     "user_tz": -480
    },
    "id": "minCfhGWKVct",
    "outputId": "791f94ae-9a11-4ae0-f571-964853eac906"
   },
   "outputs": [
    {
     "data": {
      "application/vnd.jupyter.widget-view+json": {
       "model_id": "c625b4dbf684411d9fe1917f088bbea3",
       "version_major": 2,
       "version_minor": 0
      },
      "text/plain": [
       "HBox(children=(FloatProgress(value=0.0, description='Downloading', max=213450.0, style=ProgressStyle(descripti…"
      ]
     },
     "metadata": {
      "tags": []
     },
     "output_type": "display_data"
    },
    {
     "name": "stdout",
     "output_type": "stream",
     "text": [
      "\n"
     ]
    },
    {
     "data": {
      "application/vnd.jupyter.widget-view+json": {
       "model_id": "62dae46991064ea6a0b36b7dab5ec570",
       "version_major": 2,
       "version_minor": 0
      },
      "text/plain": [
       "HBox(children=(FloatProgress(value=0.0, description='Downloading', max=29.0, style=ProgressStyle(description_w…"
      ]
     },
     "metadata": {
      "tags": []
     },
     "output_type": "display_data"
    },
    {
     "name": "stdout",
     "output_type": "stream",
     "text": [
      "\n"
     ]
    },
    {
     "data": {
      "application/vnd.jupyter.widget-view+json": {
       "model_id": "61cf43226f914647b9294b170ed91ca6",
       "version_major": 2,
       "version_minor": 0
      },
      "text/plain": [
       "HBox(children=(FloatProgress(value=0.0, description='Downloading', max=435797.0, style=ProgressStyle(descripti…"
      ]
     },
     "metadata": {
      "tags": []
     },
     "output_type": "display_data"
    },
    {
     "name": "stdout",
     "output_type": "stream",
     "text": [
      "\n"
     ]
    }
   ],
   "source": [
    "tokenizer = DistilBertTokenizer.from_pretrained('distilbert-base-cased',truncation=True)"
   ]
  },
  {
   "cell_type": "code",
   "execution_count": 8,
   "metadata": {
    "executionInfo": {
     "elapsed": 10627,
     "status": "ok",
     "timestamp": 1619008910779,
     "user": {
      "displayName": "Ying Jie Resources",
      "photoUrl": "",
      "userId": "16975828239835433341"
     },
     "user_tz": -480
    },
    "id": "gc5Ll09EKZAx"
   },
   "outputs": [],
   "source": [
    "def single_encoding_function(text,tokenizer, max_seq_length=30, name='BERT'):\n",
    "    input_ids=[]\n",
    "    if name=='BERT':\n",
    "        tokenizer.pad_token ='[PAD]'\n",
    "    elif name=='OPENAIGPT2':\n",
    "        tokenizer.pad_token='<unk>'\n",
    "    elif name=='Transformer XL':\n",
    "        tokenizer.pad_token= tokenizer.eos_token\n",
    "    elif name=='DistilBert':\n",
    "        tokenizer.pad_token='[PAD]'\n",
    "    \n",
    "    for sentence in tqdm(text):\n",
    "        encoded=tokenizer.encode(sentence,max_length=max_seq_length,pad_to_max_length=True)\n",
    "        input_ids.append(encoded)\n",
    "    return input_ids"
   ]
  },
  {
   "cell_type": "code",
   "execution_count": 9,
   "metadata": {
    "executionInfo": {
     "elapsed": 10216,
     "status": "ok",
     "timestamp": 1619008910781,
     "user": {
      "displayName": "Ying Jie Resources",
      "photoUrl": "",
      "userId": "16975828239835433341"
     },
     "user_tz": -480
    },
    "id": "dUeG4KQiIYlN"
   },
   "outputs": [],
   "source": [
    "# X=np.array(single_encoding_function(full_clean_df['tweets_train'].values.tolist(),tokenizer,name=\"BERT\"))\n",
    "# y=np.array(full_clean_df[labels_name_list])"
   ]
  },
  {
   "cell_type": "code",
   "execution_count": 10,
   "metadata": {
    "executionInfo": {
     "elapsed": 9775,
     "status": "ok",
     "timestamp": 1619008910783,
     "user": {
      "displayName": "Ying Jie Resources",
      "photoUrl": "",
      "userId": "16975828239835433341"
     },
     "user_tz": -480
    },
    "id": "izYrAV7_Ic6_"
   },
   "outputs": [],
   "source": [
    "#X_train, X_test, y_train, y_test = train_test_split(X, y, test_size = 0.33, random_state=12)"
   ]
  },
  {
   "cell_type": "code",
   "execution_count": 11,
   "metadata": {
    "colab": {
     "base_uri": "https://localhost:8080/"
    },
    "executionInfo": {
     "elapsed": 46315,
     "status": "ok",
     "timestamp": 1619008948096,
     "user": {
      "displayName": "Ying Jie Resources",
      "photoUrl": "",
      "userId": "16975828239835433341"
     },
     "user_tz": -480
    },
    "id": "hrvZxl52mB3U",
    "outputId": "bb2d3a14-c53c-4330-b0e1-dcaec9572f00"
   },
   "outputs": [
    {
     "name": "stderr",
     "output_type": "stream",
     "text": [
      "  0%|          | 0/143277 [00:00<?, ?it/s]Truncation was not explicitly activated but `max_length` is provided a specific value, please use `truncation=True` to explicitly truncate examples to max length. Defaulting to 'longest_first' truncation strategy. If you encode pairs of sequences (GLUE-style) with the tokenizer you can select this strategy more precisely by providing a specific strategy to `truncation`.\n",
      "100%|██████████| 143277/143277 [00:35<00:00, 4005.40it/s]\n"
     ]
    }
   ],
   "source": [
    "X, X_test, y, y_test =  train_test_split(np.array(single_encoding_function(full_clean_df['tweets_train'].values.tolist(),tokenizer,name=\"BERT\")), np.array(full_clean_df[labels_name_list]), test_size=0.33, random_state=12)"
   ]
  },
  {
   "cell_type": "code",
   "execution_count": 12,
   "metadata": {
    "executionInfo": {
     "elapsed": 45784,
     "status": "ok",
     "timestamp": 1619008948097,
     "user": {
      "displayName": "Ying Jie Resources",
      "photoUrl": "",
      "userId": "16975828239835433341"
     },
     "user_tz": -480
    },
    "id": "RrDTvcA6mGON"
   },
   "outputs": [],
   "source": [
    "X_train, X_val, y_train, y_val = train_test_split(X, y, test_size=0.33, random_state=12)"
   ]
  },
  {
   "cell_type": "code",
   "execution_count": 13,
   "metadata": {
    "colab": {
     "base_uri": "https://localhost:8080/"
    },
    "executionInfo": {
     "elapsed": 44393,
     "status": "ok",
     "timestamp": 1619008948098,
     "user": {
      "displayName": "Ying Jie Resources",
      "photoUrl": "",
      "userId": "16975828239835433341"
     },
     "user_tz": -480
    },
    "id": "aiuT46MamJ1F",
    "outputId": "5e06bec6-0a04-4865-ca8b-290d08b5cd51"
   },
   "outputs": [
    {
     "data": {
      "text/plain": [
       "(64316, 30)"
      ]
     },
     "execution_count": 13,
     "metadata": {
      "tags": []
     },
     "output_type": "execute_result"
    }
   ],
   "source": [
    "X_train.shape"
   ]
  },
  {
   "cell_type": "markdown",
   "metadata": {
    "id": "nvDobr9G8rjs"
   },
   "source": [
    "# Tensorflow BERT: Train-Test Iteration"
   ]
  },
  {
   "cell_type": "code",
   "execution_count": 14,
   "metadata": {
    "executionInfo": {
     "elapsed": 24487,
     "status": "ok",
     "timestamp": 1619008948099,
     "user": {
      "displayName": "Ying Jie Resources",
      "photoUrl": "",
      "userId": "16975828239835433341"
     },
     "user_tz": -480
    },
    "id": "ip8I-eXE84Jx"
   },
   "outputs": [],
   "source": [
    "EPOCHS=4\n",
    "LEARNING_RATE=1e-5\n",
    "early_stopping=early_stopping = tf.keras.callbacks.EarlyStopping(\n",
    "    monitor='val_loss', \n",
    "    patience=10,\n",
    "    mode='max',\n",
    "    restore_best_weights=True)"
   ]
  },
  {
   "cell_type": "code",
   "execution_count": 15,
   "metadata": {
    "executionInfo": {
     "elapsed": 23912,
     "status": "ok",
     "timestamp": 1619008948099,
     "user": {
      "displayName": "Ying Jie Resources",
      "photoUrl": "",
      "userId": "16975828239835433341"
     },
     "user_tz": -480
    },
    "id": "jMpZLrWPC0aT"
   },
   "outputs": [],
   "source": [
    "BATCH_SIZE=32\n",
    "steps_per_epoch = X_train.shape[0] // BATCH_SIZE"
   ]
  },
  {
   "cell_type": "code",
   "execution_count": 16,
   "metadata": {
    "executionInfo": {
     "elapsed": 23464,
     "status": "ok",
     "timestamp": 1619008948100,
     "user": {
      "displayName": "Ying Jie Resources",
      "photoUrl": "",
      "userId": "16975828239835433341"
     },
     "user_tz": -480
    },
    "id": "Zyv-TbWQC-zb"
   },
   "outputs": [],
   "source": [
    "def make_data(X_train, y_train, X_val, y_val, batch_size):\n",
    "    train = (\n",
    "        tf.data.Dataset\n",
    "        .from_tensor_slices((X_train, y_train))\n",
    "        .repeat()\n",
    "        .shuffle(2048, seed=123)\n",
    "        .batch(BATCH_SIZE)\n",
    "        .prefetch(AUTO))\n",
    "\n",
    "    test = (\n",
    "        tf.data.Dataset\n",
    "        .from_tensor_slices((X_test, y_test))\n",
    "        .batch(batch_size)\n",
    "        .cache()\n",
    "        .prefetch(AUTO)\n",
    "    )\n",
    "\n",
    "    return train,test"
   ]
  },
  {
   "cell_type": "code",
   "execution_count": 17,
   "metadata": {
    "executionInfo": {
     "elapsed": 22846,
     "status": "ok",
     "timestamp": 1619008948101,
     "user": {
      "displayName": "Ying Jie Resources",
      "photoUrl": "",
      "userId": "16975828239835433341"
     },
     "user_tz": -480
    },
    "id": "dFkV13mXDB80"
   },
   "outputs": [],
   "source": [
    "AUTO = tf.data.experimental.AUTOTUNE\n",
    "strategy = tf.distribute.get_strategy()"
   ]
  },
  {
   "cell_type": "code",
   "execution_count": 18,
   "metadata": {
    "executionInfo": {
     "elapsed": 22542,
     "status": "ok",
     "timestamp": 1619008948102,
     "user": {
      "displayName": "Ying Jie Resources",
      "photoUrl": "",
      "userId": "16975828239835433341"
     },
     "user_tz": -480
    },
    "id": "18Vek_xWDFgc"
   },
   "outputs": [],
   "source": [
    "def build_model(transformer_layer, max_len=30):\n",
    "    input_word_ids = tf.keras.layers.Input(shape=(max_len,), dtype=tf.int32, name=\"input_word_ids\")\n",
    "    sequence_output = transformer_layer(input_word_ids)[0]\n",
    "    \n",
    "    cls_token = sequence_output[:, 0, :]\n",
    "    new = tf.keras.layers.Dense(256, activation='sigmoid')(cls_token)\n",
    "    out = tf.keras.layers.Dense(6, activation='sigmoid')(new)\n",
    "    \n",
    "    model = tf.keras.Model(inputs=input_word_ids, outputs=out)\n",
    "    return model"
   ]
  },
  {
   "cell_type": "code",
   "execution_count": 19,
   "metadata": {
    "executionInfo": {
     "elapsed": 1273,
     "status": "ok",
     "timestamp": 1619008949394,
     "user": {
      "displayName": "Ying Jie Resources",
      "photoUrl": "",
      "userId": "16975828239835433341"
     },
     "user_tz": -480
    },
    "id": "agmD1SqjDITk"
   },
   "outputs": [],
   "source": [
    "def compile_model(name, max_seq_length=30, LEARNING_RATE=LEARNING_RATE):\n",
    "    with strategy.scope():\n",
    "        METRICS = [\n",
    "          tf.keras.metrics.BinaryAccuracy(name='accuracy'),\n",
    "          tf.keras.metrics.Precision(name='precision'),\n",
    "          tf.keras.metrics.Recall(name='recall')]\n",
    "        if name=='bert-base-uncased':\n",
    "            transformer_layer = (\n",
    "                TFBertModel.from_pretrained(name)\n",
    "            )\n",
    "        elif name=='openai-gpt':\n",
    "            transformer_layer = (\n",
    "                TFOpenAIGPTModel.from_pretrained(name)\n",
    "            )\n",
    "        elif name=='distilbert-base-cased':\n",
    "            transformer_layer = (\n",
    "                TFDistilBertModel.from_pretrained(name)\n",
    "            )\n",
    "        elif name=='xlm-mlm-en-2048':\n",
    "            transformer_layer = (\n",
    "                TFBertModel.from_pretrained(name)\n",
    "            )\n",
    "        elif name=='jplu/tf-xlm-roberta-large':\n",
    "            transformer_layer = (\n",
    "                TFAutoModel.from_pretrained(name)\n",
    "            )\n",
    "        model = build_model(transformer_layer, max_len=max_seq_length)\n",
    "        model.compile(optimizer=tf.keras.optimizers.Adam(\n",
    "        learning_rate=LEARNING_RATE), loss='binary_crossentropy', metrics=METRICS)\n",
    "    return model"
   ]
  },
  {
   "cell_type": "code",
   "execution_count": 20,
   "metadata": {
    "colab": {
     "base_uri": "https://localhost:8080/",
     "height": 730,
     "referenced_widgets": [
      "cb519e5759c0452aa0afe60cbfe469b0",
      "e6eef7dc70a743f28fd209e52af4cff4",
      "176e946a53dc41c38ff7c910352bd37b",
      "2aee93cc63854564b2a3b2d2efe4fba6",
      "1af3a1e2752345a68f26ea516bd734d7",
      "3f237ab432644db1916a8cf69d9b3b7e",
      "810cca9179b442b6ab1bce431e6bbeca",
      "82caddb5d86d4e3f8ea861ebc5f3fb81",
      "a021e5bd8a5c41afbf943fc1c56cc87f",
      "0d0725de8f284dfc82a14a77f7058f83",
      "c32778f822e044fe922dceefb8b3619c",
      "a00a5755abd44320a0df0cd9bc3f02bd",
      "c29b605220a5410b8a3e54417c1c1e92",
      "4cabf453eb9243b28dae331ed3bbdab1",
      "eafba4b9b70148fdacb680dce2237b47",
      "38f2c2b498e54344948bdf05f18b09b3"
     ]
    },
    "executionInfo": {
     "elapsed": 1198455,
     "status": "ok",
     "timestamp": 1619010146582,
     "user": {
      "displayName": "Ying Jie Resources",
      "photoUrl": "",
      "userId": "16975828239835433341"
     },
     "user_tz": -480
    },
    "id": "nPQ6Wrd_DLkU",
    "outputId": "1ada2b50-02fb-4424-9aec-d7c3b180eb15"
   },
   "outputs": [
    {
     "data": {
      "application/vnd.jupyter.widget-view+json": {
       "model_id": "cb519e5759c0452aa0afe60cbfe469b0",
       "version_major": 2,
       "version_minor": 0
      },
      "text/plain": [
       "HBox(children=(FloatProgress(value=0.0, description='Downloading', max=411.0, style=ProgressStyle(description_…"
      ]
     },
     "metadata": {
      "tags": []
     },
     "output_type": "display_data"
    },
    {
     "name": "stdout",
     "output_type": "stream",
     "text": [
      "\n"
     ]
    },
    {
     "data": {
      "application/vnd.jupyter.widget-view+json": {
       "model_id": "a021e5bd8a5c41afbf943fc1c56cc87f",
       "version_major": 2,
       "version_minor": 0
      },
      "text/plain": [
       "HBox(children=(FloatProgress(value=0.0, description='Downloading', max=354041576.0, style=ProgressStyle(descri…"
      ]
     },
     "metadata": {
      "tags": []
     },
     "output_type": "display_data"
    },
    {
     "name": "stdout",
     "output_type": "stream",
     "text": [
      "\n"
     ]
    },
    {
     "name": "stderr",
     "output_type": "stream",
     "text": [
      "Some layers from the model checkpoint at distilbert-base-cased were not used when initializing TFDistilBertModel: ['vocab_projector', 'activation_13', 'vocab_layer_norm', 'vocab_transform']\n",
      "- This IS expected if you are initializing TFDistilBertModel from the checkpoint of a model trained on another task or with another architecture (e.g. initializing a BertForSequenceClassification model from a BertForPreTraining model).\n",
      "- This IS NOT expected if you are initializing TFDistilBertModel from the checkpoint of a model that you expect to be exactly identical (initializing a BertForSequenceClassification model from a BertForSequenceClassification model).\n",
      "All the layers of TFDistilBertModel were initialized from the model checkpoint at distilbert-base-cased.\n",
      "If your task is similar to the task the model of the checkpoint was trained on, you can already use TFDistilBertModel for predictions without further training.\n"
     ]
    },
    {
     "name": "stdout",
     "output_type": "stream",
     "text": [
      "WARNING:tensorflow:The parameters `output_attentions`, `output_hidden_states` and `use_cache` cannot be updated when calling a model.They have to be set to True/False in the config object (i.e.: `config=XConfig.from_pretrained('name', output_attentions=True)`).\n",
      "WARNING:tensorflow:AutoGraph could not transform <bound method Socket.send of <zmq.sugar.socket.Socket object at 0x7f6454bb3d70>> and will run it as-is.\n",
      "Please report this to the TensorFlow team. When filing the bug, set the verbosity to 10 (on Linux, `export AUTOGRAPH_VERBOSITY=10`) and attach the full output.\n",
      "Cause: module, class, method, function, traceback, frame, or code object was expected, got cython_function_or_method\n",
      "To silence this warning, decorate the function with @tf.autograph.experimental.do_not_convert\n",
      "WARNING: AutoGraph could not transform <bound method Socket.send of <zmq.sugar.socket.Socket object at 0x7f6454bb3d70>> and will run it as-is.\n",
      "Please report this to the TensorFlow team. When filing the bug, set the verbosity to 10 (on Linux, `export AUTOGRAPH_VERBOSITY=10`) and attach the full output.\n",
      "Cause: module, class, method, function, traceback, frame, or code object was expected, got cython_function_or_method\n",
      "To silence this warning, decorate the function with @tf.autograph.experimental.do_not_convert\n",
      "WARNING:tensorflow:AutoGraph could not transform <function wrap at 0x7f6470460c20> and will run it as-is.\n",
      "Cause: while/else statement not yet supported\n",
      "To silence this warning, decorate the function with @tf.autograph.experimental.do_not_convert\n",
      "WARNING: AutoGraph could not transform <function wrap at 0x7f6470460c20> and will run it as-is.\n",
      "Cause: while/else statement not yet supported\n",
      "To silence this warning, decorate the function with @tf.autograph.experimental.do_not_convert\n",
      "WARNING:tensorflow:The parameter `return_dict` cannot be set in graph mode and will always be set to `True`.\n",
      "Epoch 1/4\n",
      "WARNING:tensorflow:The parameters `output_attentions`, `output_hidden_states` and `use_cache` cannot be updated when calling a model.They have to be set to True/False in the config object (i.e.: `config=XConfig.from_pretrained('name', output_attentions=True)`).\n",
      "WARNING:tensorflow:The parameter `return_dict` cannot be set in graph mode and will always be set to `True`.\n",
      "WARNING:tensorflow:The parameters `output_attentions`, `output_hidden_states` and `use_cache` cannot be updated when calling a model.They have to be set to True/False in the config object (i.e.: `config=XConfig.from_pretrained('name', output_attentions=True)`).\n",
      "WARNING:tensorflow:The parameter `return_dict` cannot be set in graph mode and will always be set to `True`.\n",
      "2009/2009 [==============================] - ETA: 0s - loss: 0.3232 - accuracy: 0.8660 - precision: 0.8377 - recall: 0.6248WARNING:tensorflow:The parameters `output_attentions`, `output_hidden_states` and `use_cache` cannot be updated when calling a model.They have to be set to True/False in the config object (i.e.: `config=XConfig.from_pretrained('name', output_attentions=True)`).\n",
      "WARNING:tensorflow:The parameter `return_dict` cannot be set in graph mode and will always be set to `True`.\n",
      "2009/2009 [==============================] - 292s 142ms/step - loss: 0.3232 - accuracy: 0.8660 - precision: 0.8378 - recall: 0.6248 - val_loss: 0.2632 - val_accuracy: 0.8906 - val_precision: 0.8679 - val_recall: 0.6942\n",
      "Epoch 2/4\n",
      "2009/2009 [==============================] - 284s 141ms/step - loss: 0.2613 - accuracy: 0.8908 - precision: 0.8815 - recall: 0.6820 - val_loss: 0.2594 - val_accuracy: 0.8917 - val_precision: 0.8786 - val_recall: 0.6877\n",
      "Epoch 3/4\n",
      "2009/2009 [==============================] - 285s 142ms/step - loss: 0.2552 - accuracy: 0.8933 - precision: 0.8847 - recall: 0.6907 - val_loss: 0.2599 - val_accuracy: 0.8915 - val_precision: 0.8699 - val_recall: 0.6959\n",
      "Epoch 4/4\n",
      "2009/2009 [==============================] - 285s 142ms/step - loss: 0.2489 - accuracy: 0.8962 - precision: 0.8866 - recall: 0.7012 - val_loss: 0.2615 - val_accuracy: 0.8900 - val_precision: 0.8484 - val_recall: 0.7135\n"
     ]
    }
   ],
   "source": [
    "train, test = make_data(X_train, y_train, X_val, y_val, BATCH_SIZE)\n",
    "model = compile_model('distilbert-base-cased')\n",
    "\n",
    "history = model.fit(\n",
    "    train, steps_per_epoch=steps_per_epoch,\n",
    "    epochs=EPOCHS, callbacks=[early_stopping], validation_data=test)"
   ]
  },
  {
   "cell_type": "code",
   "execution_count": 21,
   "metadata": {
    "colab": {
     "base_uri": "https://localhost:8080/"
    },
    "executionInfo": {
     "elapsed": 1235619,
     "status": "ok",
     "timestamp": 1619010183752,
     "user": {
      "displayName": "Ying Jie Resources",
      "photoUrl": "",
      "userId": "16975828239835433341"
     },
     "user_tz": -480
    },
    "id": "ey1kAGYqMVjW",
    "outputId": "0a78af79-3398-49f8-939d-f6df13ace720"
   },
   "outputs": [
    {
     "name": "stdout",
     "output_type": "stream",
     "text": [
      "WARNING:tensorflow:The parameters `output_attentions`, `output_hidden_states` and `use_cache` cannot be updated when calling a model.They have to be set to True/False in the config object (i.e.: `config=XConfig.from_pretrained('name', output_attentions=True)`).\n",
      "WARNING:tensorflow:The parameter `return_dict` cannot be set in graph mode and will always be set to `True`.\n",
      "990/990 [==============================] - 38s 36ms/step\n"
     ]
    }
   ],
   "source": [
    "y_predict=model.predict(X_val, verbose=1)\n",
    "y_predict[ y_predict> 0.5] = 1\n",
    "y_predict[y_predict <= 0.5] = 0"
   ]
  },
  {
   "cell_type": "code",
   "execution_count": 22,
   "metadata": {
    "colab": {
     "base_uri": "https://localhost:8080/"
    },
    "executionInfo": {
     "elapsed": 1236122,
     "status": "ok",
     "timestamp": 1619010184260,
     "user": {
      "displayName": "Ying Jie Resources",
      "photoUrl": "",
      "userId": "16975828239835433341"
     },
     "user_tz": -480
    },
    "id": "SrlY_y6Si5W8",
    "outputId": "41c59c9b-3c5d-49c1-cc0f-e61dccc5dc06"
   },
   "outputs": [
    {
     "name": "stdout",
     "output_type": "stream",
     "text": [
      "0.5024776711681103\n"
     ]
    }
   ],
   "source": [
    "print(f1_score(y_val, y_predict, average='macro'))"
   ]
  },
  {
   "cell_type": "code",
   "execution_count": 23,
   "metadata": {
    "colab": {
     "base_uri": "https://localhost:8080/"
    },
    "executionInfo": {
     "elapsed": 1236117,
     "status": "ok",
     "timestamp": 1619010184261,
     "user": {
      "displayName": "Ying Jie Resources",
      "photoUrl": "",
      "userId": "16975828239835433341"
     },
     "user_tz": -480
    },
    "id": "b-TqK_BwlG92",
    "outputId": "a19975e1-5c3a-41ff-cb94-da66615cc94c"
   },
   "outputs": [
    {
     "name": "stdout",
     "output_type": "stream",
     "text": [
      "              precision    recall  f1-score   support\n",
      "\n",
      "           0       0.94      0.99      0.96     28950\n",
      "           1       0.57      0.30      0.39      9837\n",
      "           2       0.59      0.30      0.40      4348\n",
      "           3       0.71      0.65      0.68      2388\n",
      "           4       0.62      0.07      0.13       468\n",
      "           5       0.70      0.34      0.46      4664\n",
      "\n",
      "   micro avg       0.85      0.71      0.77     50655\n",
      "   macro avg       0.69      0.44      0.50     50655\n",
      "weighted avg       0.80      0.71      0.74     50655\n",
      " samples avg       0.89      0.78      0.79     50655\n",
      "\n"
     ]
    }
   ],
   "source": [
    "print(classification_report(y_val, y_predict))"
   ]
  },
  {
   "cell_type": "markdown",
   "metadata": {
    "id": "Z915CQOOP55D"
   },
   "source": [
    "## Tensorflow-BERT 5 Fold Cross Validation"
   ]
  },
  {
   "cell_type": "code",
   "execution_count": null,
   "metadata": {
    "executionInfo": {
     "elapsed": 1693,
     "status": "aborted",
     "timestamp": 1619005903824,
     "user": {
      "displayName": "Ying Jie Resources",
      "photoUrl": "",
      "userId": "16975828239835433341"
     },
     "user_tz": -480
    },
    "id": "v8VEaSe2QoTV"
   },
   "outputs": [],
   "source": [
    "# def one_fold(X_train, y_train, X_test, y_test, BATCH_SIZE):\n",
    "#     train, test = make_data(X_train, y_train, X_test, y_test, BATCH_SIZE)\n",
    "#     model = compile_model('distilbert-base-cased')\n",
    "\n",
    "#     history = model.fit(\n",
    "#         train, steps_per_epoch=steps_per_epoch,\n",
    "#         epochs=EPOCHS, callbacks=[early_stopping], validation_data=test)\n",
    "#     y_predict=model.predict(X_test, verbose=1)\n",
    "#     y_predict[ y_predict> 0.5] = 1\n",
    "#     y_predict[y_predict <= 0.5] = 0\n",
    "#     score = f1_score(y_test, y_predict, average='macro')\n",
    "#     print(f'Average f1 macro non-empty is {score}')\n",
    "#     return score"
   ]
  },
  {
   "cell_type": "code",
   "execution_count": null,
   "metadata": {
    "executionInfo": {
     "elapsed": 1691,
     "status": "aborted",
     "timestamp": 1619005903825,
     "user": {
      "displayName": "Ying Jie Resources",
      "photoUrl": "",
      "userId": "16975828239835433341"
     },
     "user_tz": -480
    },
    "id": "EwejZ6L-P2-P"
   },
   "outputs": [],
   "source": [
    "# kf = KFold(n_splits=2, random_state=123)\n",
    "# kf.get_n_splits(X)\n",
    "# scores = []\n",
    "# for train_index, test_index in kf.split(X):\n",
    "#     print(\"TRAIN:\", train_index, \"TEST:\", test_index)\n",
    "#     X_train, X_test = X[train_index], X[test_index]\n",
    "#     y_train, y_test = y[train_index], y[test_index]\n",
    "#     scores.append(one_fold(X_train, y_train, X_test, y_test, BATCH_SIZE))"
   ]
  }
 ],
 "metadata": {
  "accelerator": "GPU",
  "colab": {
   "collapsed_sections": [],
   "name": "NEWEST_FINAL (BERT) TENSORFLOW.ipynb",
   "provenance": []
  },
  "kernelspec": {
   "display_name": "Python 3",
   "language": "python",
   "name": "python3"
  },
  "language_info": {
   "codemirror_mode": {
    "name": "ipython",
    "version": 3
   },
   "file_extension": ".py",
   "mimetype": "text/x-python",
   "name": "python",
   "nbconvert_exporter": "python",
   "pygments_lexer": "ipython3",
   "version": "3.7.3"
  },
  "widgets": {
   "application/vnd.jupyter.widget-state+json": {
    "007c57f5e8294519a3bb65901f412eff": {
     "model_module": "@jupyter-widgets/controls",
     "model_name": "ProgressStyleModel",
     "state": {
      "_model_module": "@jupyter-widgets/controls",
      "_model_module_version": "1.5.0",
      "_model_name": "ProgressStyleModel",
      "_view_count": null,
      "_view_module": "@jupyter-widgets/base",
      "_view_module_version": "1.2.0",
      "_view_name": "StyleView",
      "bar_color": null,
      "description_width": "initial"
     }
    },
    "044a75371ad9431a9cec9dc560693c6e": {
     "model_module": "@jupyter-widgets/base",
     "model_name": "LayoutModel",
     "state": {
      "_model_module": "@jupyter-widgets/base",
      "_model_module_version": "1.2.0",
      "_model_name": "LayoutModel",
      "_view_count": null,
      "_view_module": "@jupyter-widgets/base",
      "_view_module_version": "1.2.0",
      "_view_name": "LayoutView",
      "align_content": null,
      "align_items": null,
      "align_self": null,
      "border": null,
      "bottom": null,
      "display": null,
      "flex": null,
      "flex_flow": null,
      "grid_area": null,
      "grid_auto_columns": null,
      "grid_auto_flow": null,
      "grid_auto_rows": null,
      "grid_column": null,
      "grid_gap": null,
      "grid_row": null,
      "grid_template_areas": null,
      "grid_template_columns": null,
      "grid_template_rows": null,
      "height": null,
      "justify_content": null,
      "justify_items": null,
      "left": null,
      "margin": null,
      "max_height": null,
      "max_width": null,
      "min_height": null,
      "min_width": null,
      "object_fit": null,
      "object_position": null,
      "order": null,
      "overflow": null,
      "overflow_x": null,
      "overflow_y": null,
      "padding": null,
      "right": null,
      "top": null,
      "visibility": null,
      "width": null
     }
    },
    "0d0725de8f284dfc82a14a77f7058f83": {
     "model_module": "@jupyter-widgets/base",
     "model_name": "LayoutModel",
     "state": {
      "_model_module": "@jupyter-widgets/base",
      "_model_module_version": "1.2.0",
      "_model_name": "LayoutModel",
      "_view_count": null,
      "_view_module": "@jupyter-widgets/base",
      "_view_module_version": "1.2.0",
      "_view_name": "LayoutView",
      "align_content": null,
      "align_items": null,
      "align_self": null,
      "border": null,
      "bottom": null,
      "display": null,
      "flex": null,
      "flex_flow": null,
      "grid_area": null,
      "grid_auto_columns": null,
      "grid_auto_flow": null,
      "grid_auto_rows": null,
      "grid_column": null,
      "grid_gap": null,
      "grid_row": null,
      "grid_template_areas": null,
      "grid_template_columns": null,
      "grid_template_rows": null,
      "height": null,
      "justify_content": null,
      "justify_items": null,
      "left": null,
      "margin": null,
      "max_height": null,
      "max_width": null,
      "min_height": null,
      "min_width": null,
      "object_fit": null,
      "object_position": null,
      "order": null,
      "overflow": null,
      "overflow_x": null,
      "overflow_y": null,
      "padding": null,
      "right": null,
      "top": null,
      "visibility": null,
      "width": null
     }
    },
    "10385056c3c8421788f6c3e38a9906eb": {
     "model_module": "@jupyter-widgets/base",
     "model_name": "LayoutModel",
     "state": {
      "_model_module": "@jupyter-widgets/base",
      "_model_module_version": "1.2.0",
      "_model_name": "LayoutModel",
      "_view_count": null,
      "_view_module": "@jupyter-widgets/base",
      "_view_module_version": "1.2.0",
      "_view_name": "LayoutView",
      "align_content": null,
      "align_items": null,
      "align_self": null,
      "border": null,
      "bottom": null,
      "display": null,
      "flex": null,
      "flex_flow": null,
      "grid_area": null,
      "grid_auto_columns": null,
      "grid_auto_flow": null,
      "grid_auto_rows": null,
      "grid_column": null,
      "grid_gap": null,
      "grid_row": null,
      "grid_template_areas": null,
      "grid_template_columns": null,
      "grid_template_rows": null,
      "height": null,
      "justify_content": null,
      "justify_items": null,
      "left": null,
      "margin": null,
      "max_height": null,
      "max_width": null,
      "min_height": null,
      "min_width": null,
      "object_fit": null,
      "object_position": null,
      "order": null,
      "overflow": null,
      "overflow_x": null,
      "overflow_y": null,
      "padding": null,
      "right": null,
      "top": null,
      "visibility": null,
      "width": null
     }
    },
    "176e946a53dc41c38ff7c910352bd37b": {
     "model_module": "@jupyter-widgets/controls",
     "model_name": "FloatProgressModel",
     "state": {
      "_dom_classes": [],
      "_model_module": "@jupyter-widgets/controls",
      "_model_module_version": "1.5.0",
      "_model_name": "FloatProgressModel",
      "_view_count": null,
      "_view_module": "@jupyter-widgets/controls",
      "_view_module_version": "1.5.0",
      "_view_name": "ProgressView",
      "bar_style": "success",
      "description": "Downloading: 100%",
      "description_tooltip": null,
      "layout": "IPY_MODEL_3f237ab432644db1916a8cf69d9b3b7e",
      "max": 411,
      "min": 0,
      "orientation": "horizontal",
      "style": "IPY_MODEL_1af3a1e2752345a68f26ea516bd734d7",
      "value": 411
     }
    },
    "1af3a1e2752345a68f26ea516bd734d7": {
     "model_module": "@jupyter-widgets/controls",
     "model_name": "ProgressStyleModel",
     "state": {
      "_model_module": "@jupyter-widgets/controls",
      "_model_module_version": "1.5.0",
      "_model_name": "ProgressStyleModel",
      "_view_count": null,
      "_view_module": "@jupyter-widgets/base",
      "_view_module_version": "1.2.0",
      "_view_name": "StyleView",
      "bar_color": null,
      "description_width": "initial"
     }
    },
    "1c175ee78a0b4832a03faad113a3d3ce": {
     "model_module": "@jupyter-widgets/controls",
     "model_name": "DescriptionStyleModel",
     "state": {
      "_model_module": "@jupyter-widgets/controls",
      "_model_module_version": "1.5.0",
      "_model_name": "DescriptionStyleModel",
      "_view_count": null,
      "_view_module": "@jupyter-widgets/base",
      "_view_module_version": "1.2.0",
      "_view_name": "StyleView",
      "description_width": ""
     }
    },
    "287fce9939af4dd3a9902c38b502bcab": {
     "model_module": "@jupyter-widgets/base",
     "model_name": "LayoutModel",
     "state": {
      "_model_module": "@jupyter-widgets/base",
      "_model_module_version": "1.2.0",
      "_model_name": "LayoutModel",
      "_view_count": null,
      "_view_module": "@jupyter-widgets/base",
      "_view_module_version": "1.2.0",
      "_view_name": "LayoutView",
      "align_content": null,
      "align_items": null,
      "align_self": null,
      "border": null,
      "bottom": null,
      "display": null,
      "flex": null,
      "flex_flow": null,
      "grid_area": null,
      "grid_auto_columns": null,
      "grid_auto_flow": null,
      "grid_auto_rows": null,
      "grid_column": null,
      "grid_gap": null,
      "grid_row": null,
      "grid_template_areas": null,
      "grid_template_columns": null,
      "grid_template_rows": null,
      "height": null,
      "justify_content": null,
      "justify_items": null,
      "left": null,
      "margin": null,
      "max_height": null,
      "max_width": null,
      "min_height": null,
      "min_width": null,
      "object_fit": null,
      "object_position": null,
      "order": null,
      "overflow": null,
      "overflow_x": null,
      "overflow_y": null,
      "padding": null,
      "right": null,
      "top": null,
      "visibility": null,
      "width": null
     }
    },
    "2aee93cc63854564b2a3b2d2efe4fba6": {
     "model_module": "@jupyter-widgets/controls",
     "model_name": "HTMLModel",
     "state": {
      "_dom_classes": [],
      "_model_module": "@jupyter-widgets/controls",
      "_model_module_version": "1.5.0",
      "_model_name": "HTMLModel",
      "_view_count": null,
      "_view_module": "@jupyter-widgets/controls",
      "_view_module_version": "1.5.0",
      "_view_name": "HTMLView",
      "description": "",
      "description_tooltip": null,
      "layout": "IPY_MODEL_82caddb5d86d4e3f8ea861ebc5f3fb81",
      "placeholder": "​",
      "style": "IPY_MODEL_810cca9179b442b6ab1bce431e6bbeca",
      "value": " 411/411 [00:06&lt;00:00, 62.1B/s]"
     }
    },
    "321052056b8c4717b75b3bce2f7cb0f3": {
     "model_module": "@jupyter-widgets/base",
     "model_name": "LayoutModel",
     "state": {
      "_model_module": "@jupyter-widgets/base",
      "_model_module_version": "1.2.0",
      "_model_name": "LayoutModel",
      "_view_count": null,
      "_view_module": "@jupyter-widgets/base",
      "_view_module_version": "1.2.0",
      "_view_name": "LayoutView",
      "align_content": null,
      "align_items": null,
      "align_self": null,
      "border": null,
      "bottom": null,
      "display": null,
      "flex": null,
      "flex_flow": null,
      "grid_area": null,
      "grid_auto_columns": null,
      "grid_auto_flow": null,
      "grid_auto_rows": null,
      "grid_column": null,
      "grid_gap": null,
      "grid_row": null,
      "grid_template_areas": null,
      "grid_template_columns": null,
      "grid_template_rows": null,
      "height": null,
      "justify_content": null,
      "justify_items": null,
      "left": null,
      "margin": null,
      "max_height": null,
      "max_width": null,
      "min_height": null,
      "min_width": null,
      "object_fit": null,
      "object_position": null,
      "order": null,
      "overflow": null,
      "overflow_x": null,
      "overflow_y": null,
      "padding": null,
      "right": null,
      "top": null,
      "visibility": null,
      "width": null
     }
    },
    "35b18ec7cd7b4a398afd6957a5ef74bc": {
     "model_module": "@jupyter-widgets/controls",
     "model_name": "FloatProgressModel",
     "state": {
      "_dom_classes": [],
      "_model_module": "@jupyter-widgets/controls",
      "_model_module_version": "1.5.0",
      "_model_name": "FloatProgressModel",
      "_view_count": null,
      "_view_module": "@jupyter-widgets/controls",
      "_view_module_version": "1.5.0",
      "_view_name": "ProgressView",
      "bar_style": "success",
      "description": "Downloading: 100%",
      "description_tooltip": null,
      "layout": "IPY_MODEL_10385056c3c8421788f6c3e38a9906eb",
      "max": 213450,
      "min": 0,
      "orientation": "horizontal",
      "style": "IPY_MODEL_c782e74e202d4f4eabb06dcb74a7ea03",
      "value": 213450
     }
    },
    "38f2c2b498e54344948bdf05f18b09b3": {
     "model_module": "@jupyter-widgets/base",
     "model_name": "LayoutModel",
     "state": {
      "_model_module": "@jupyter-widgets/base",
      "_model_module_version": "1.2.0",
      "_model_name": "LayoutModel",
      "_view_count": null,
      "_view_module": "@jupyter-widgets/base",
      "_view_module_version": "1.2.0",
      "_view_name": "LayoutView",
      "align_content": null,
      "align_items": null,
      "align_self": null,
      "border": null,
      "bottom": null,
      "display": null,
      "flex": null,
      "flex_flow": null,
      "grid_area": null,
      "grid_auto_columns": null,
      "grid_auto_flow": null,
      "grid_auto_rows": null,
      "grid_column": null,
      "grid_gap": null,
      "grid_row": null,
      "grid_template_areas": null,
      "grid_template_columns": null,
      "grid_template_rows": null,
      "height": null,
      "justify_content": null,
      "justify_items": null,
      "left": null,
      "margin": null,
      "max_height": null,
      "max_width": null,
      "min_height": null,
      "min_width": null,
      "object_fit": null,
      "object_position": null,
      "order": null,
      "overflow": null,
      "overflow_x": null,
      "overflow_y": null,
      "padding": null,
      "right": null,
      "top": null,
      "visibility": null,
      "width": null
     }
    },
    "3d4b9a2ee6f94cafa80d59100c99ad71": {
     "model_module": "@jupyter-widgets/controls",
     "model_name": "FloatProgressModel",
     "state": {
      "_dom_classes": [],
      "_model_module": "@jupyter-widgets/controls",
      "_model_module_version": "1.5.0",
      "_model_name": "FloatProgressModel",
      "_view_count": null,
      "_view_module": "@jupyter-widgets/controls",
      "_view_module_version": "1.5.0",
      "_view_name": "ProgressView",
      "bar_style": "success",
      "description": "Downloading: 100%",
      "description_tooltip": null,
      "layout": "IPY_MODEL_65cc8e3ea0a84f758f20c7b892a2d851",
      "max": 29,
      "min": 0,
      "orientation": "horizontal",
      "style": "IPY_MODEL_007c57f5e8294519a3bb65901f412eff",
      "value": 29
     }
    },
    "3f237ab432644db1916a8cf69d9b3b7e": {
     "model_module": "@jupyter-widgets/base",
     "model_name": "LayoutModel",
     "state": {
      "_model_module": "@jupyter-widgets/base",
      "_model_module_version": "1.2.0",
      "_model_name": "LayoutModel",
      "_view_count": null,
      "_view_module": "@jupyter-widgets/base",
      "_view_module_version": "1.2.0",
      "_view_name": "LayoutView",
      "align_content": null,
      "align_items": null,
      "align_self": null,
      "border": null,
      "bottom": null,
      "display": null,
      "flex": null,
      "flex_flow": null,
      "grid_area": null,
      "grid_auto_columns": null,
      "grid_auto_flow": null,
      "grid_auto_rows": null,
      "grid_column": null,
      "grid_gap": null,
      "grid_row": null,
      "grid_template_areas": null,
      "grid_template_columns": null,
      "grid_template_rows": null,
      "height": null,
      "justify_content": null,
      "justify_items": null,
      "left": null,
      "margin": null,
      "max_height": null,
      "max_width": null,
      "min_height": null,
      "min_width": null,
      "object_fit": null,
      "object_position": null,
      "order": null,
      "overflow": null,
      "overflow_x": null,
      "overflow_y": null,
      "padding": null,
      "right": null,
      "top": null,
      "visibility": null,
      "width": null
     }
    },
    "4842f575df34425cb256e14ca8f5c9da": {
     "model_module": "@jupyter-widgets/base",
     "model_name": "LayoutModel",
     "state": {
      "_model_module": "@jupyter-widgets/base",
      "_model_module_version": "1.2.0",
      "_model_name": "LayoutModel",
      "_view_count": null,
      "_view_module": "@jupyter-widgets/base",
      "_view_module_version": "1.2.0",
      "_view_name": "LayoutView",
      "align_content": null,
      "align_items": null,
      "align_self": null,
      "border": null,
      "bottom": null,
      "display": null,
      "flex": null,
      "flex_flow": null,
      "grid_area": null,
      "grid_auto_columns": null,
      "grid_auto_flow": null,
      "grid_auto_rows": null,
      "grid_column": null,
      "grid_gap": null,
      "grid_row": null,
      "grid_template_areas": null,
      "grid_template_columns": null,
      "grid_template_rows": null,
      "height": null,
      "justify_content": null,
      "justify_items": null,
      "left": null,
      "margin": null,
      "max_height": null,
      "max_width": null,
      "min_height": null,
      "min_width": null,
      "object_fit": null,
      "object_position": null,
      "order": null,
      "overflow": null,
      "overflow_x": null,
      "overflow_y": null,
      "padding": null,
      "right": null,
      "top": null,
      "visibility": null,
      "width": null
     }
    },
    "4cabf453eb9243b28dae331ed3bbdab1": {
     "model_module": "@jupyter-widgets/base",
     "model_name": "LayoutModel",
     "state": {
      "_model_module": "@jupyter-widgets/base",
      "_model_module_version": "1.2.0",
      "_model_name": "LayoutModel",
      "_view_count": null,
      "_view_module": "@jupyter-widgets/base",
      "_view_module_version": "1.2.0",
      "_view_name": "LayoutView",
      "align_content": null,
      "align_items": null,
      "align_self": null,
      "border": null,
      "bottom": null,
      "display": null,
      "flex": null,
      "flex_flow": null,
      "grid_area": null,
      "grid_auto_columns": null,
      "grid_auto_flow": null,
      "grid_auto_rows": null,
      "grid_column": null,
      "grid_gap": null,
      "grid_row": null,
      "grid_template_areas": null,
      "grid_template_columns": null,
      "grid_template_rows": null,
      "height": null,
      "justify_content": null,
      "justify_items": null,
      "left": null,
      "margin": null,
      "max_height": null,
      "max_width": null,
      "min_height": null,
      "min_width": null,
      "object_fit": null,
      "object_position": null,
      "order": null,
      "overflow": null,
      "overflow_x": null,
      "overflow_y": null,
      "padding": null,
      "right": null,
      "top": null,
      "visibility": null,
      "width": null
     }
    },
    "5422b9ecfdac493c9024145cdeb044ff": {
     "model_module": "@jupyter-widgets/base",
     "model_name": "LayoutModel",
     "state": {
      "_model_module": "@jupyter-widgets/base",
      "_model_module_version": "1.2.0",
      "_model_name": "LayoutModel",
      "_view_count": null,
      "_view_module": "@jupyter-widgets/base",
      "_view_module_version": "1.2.0",
      "_view_name": "LayoutView",
      "align_content": null,
      "align_items": null,
      "align_self": null,
      "border": null,
      "bottom": null,
      "display": null,
      "flex": null,
      "flex_flow": null,
      "grid_area": null,
      "grid_auto_columns": null,
      "grid_auto_flow": null,
      "grid_auto_rows": null,
      "grid_column": null,
      "grid_gap": null,
      "grid_row": null,
      "grid_template_areas": null,
      "grid_template_columns": null,
      "grid_template_rows": null,
      "height": null,
      "justify_content": null,
      "justify_items": null,
      "left": null,
      "margin": null,
      "max_height": null,
      "max_width": null,
      "min_height": null,
      "min_width": null,
      "object_fit": null,
      "object_position": null,
      "order": null,
      "overflow": null,
      "overflow_x": null,
      "overflow_y": null,
      "padding": null,
      "right": null,
      "top": null,
      "visibility": null,
      "width": null
     }
    },
    "61cf43226f914647b9294b170ed91ca6": {
     "model_module": "@jupyter-widgets/controls",
     "model_name": "HBoxModel",
     "state": {
      "_dom_classes": [],
      "_model_module": "@jupyter-widgets/controls",
      "_model_module_version": "1.5.0",
      "_model_name": "HBoxModel",
      "_view_count": null,
      "_view_module": "@jupyter-widgets/controls",
      "_view_module_version": "1.5.0",
      "_view_name": "HBoxView",
      "box_style": "",
      "children": [
       "IPY_MODEL_d19330a68fbd479e942831a778c4a192",
       "IPY_MODEL_bc127d63f64e46f89c90508b997f95be"
      ],
      "layout": "IPY_MODEL_287fce9939af4dd3a9902c38b502bcab"
     }
    },
    "62dae46991064ea6a0b36b7dab5ec570": {
     "model_module": "@jupyter-widgets/controls",
     "model_name": "HBoxModel",
     "state": {
      "_dom_classes": [],
      "_model_module": "@jupyter-widgets/controls",
      "_model_module_version": "1.5.0",
      "_model_name": "HBoxModel",
      "_view_count": null,
      "_view_module": "@jupyter-widgets/controls",
      "_view_module_version": "1.5.0",
      "_view_name": "HBoxView",
      "box_style": "",
      "children": [
       "IPY_MODEL_3d4b9a2ee6f94cafa80d59100c99ad71",
       "IPY_MODEL_ce019ce8072544abbfe7b2f7db6ea6a6"
      ],
      "layout": "IPY_MODEL_044a75371ad9431a9cec9dc560693c6e"
     }
    },
    "6523e335e8884b6b8349eec43eac2510": {
     "model_module": "@jupyter-widgets/controls",
     "model_name": "DescriptionStyleModel",
     "state": {
      "_model_module": "@jupyter-widgets/controls",
      "_model_module_version": "1.5.0",
      "_model_name": "DescriptionStyleModel",
      "_view_count": null,
      "_view_module": "@jupyter-widgets/base",
      "_view_module_version": "1.2.0",
      "_view_name": "StyleView",
      "description_width": ""
     }
    },
    "65cc8e3ea0a84f758f20c7b892a2d851": {
     "model_module": "@jupyter-widgets/base",
     "model_name": "LayoutModel",
     "state": {
      "_model_module": "@jupyter-widgets/base",
      "_model_module_version": "1.2.0",
      "_model_name": "LayoutModel",
      "_view_count": null,
      "_view_module": "@jupyter-widgets/base",
      "_view_module_version": "1.2.0",
      "_view_name": "LayoutView",
      "align_content": null,
      "align_items": null,
      "align_self": null,
      "border": null,
      "bottom": null,
      "display": null,
      "flex": null,
      "flex_flow": null,
      "grid_area": null,
      "grid_auto_columns": null,
      "grid_auto_flow": null,
      "grid_auto_rows": null,
      "grid_column": null,
      "grid_gap": null,
      "grid_row": null,
      "grid_template_areas": null,
      "grid_template_columns": null,
      "grid_template_rows": null,
      "height": null,
      "justify_content": null,
      "justify_items": null,
      "left": null,
      "margin": null,
      "max_height": null,
      "max_width": null,
      "min_height": null,
      "min_width": null,
      "object_fit": null,
      "object_position": null,
      "order": null,
      "overflow": null,
      "overflow_x": null,
      "overflow_y": null,
      "padding": null,
      "right": null,
      "top": null,
      "visibility": null,
      "width": null
     }
    },
    "810cca9179b442b6ab1bce431e6bbeca": {
     "model_module": "@jupyter-widgets/controls",
     "model_name": "DescriptionStyleModel",
     "state": {
      "_model_module": "@jupyter-widgets/controls",
      "_model_module_version": "1.5.0",
      "_model_name": "DescriptionStyleModel",
      "_view_count": null,
      "_view_module": "@jupyter-widgets/base",
      "_view_module_version": "1.2.0",
      "_view_name": "StyleView",
      "description_width": ""
     }
    },
    "82caddb5d86d4e3f8ea861ebc5f3fb81": {
     "model_module": "@jupyter-widgets/base",
     "model_name": "LayoutModel",
     "state": {
      "_model_module": "@jupyter-widgets/base",
      "_model_module_version": "1.2.0",
      "_model_name": "LayoutModel",
      "_view_count": null,
      "_view_module": "@jupyter-widgets/base",
      "_view_module_version": "1.2.0",
      "_view_name": "LayoutView",
      "align_content": null,
      "align_items": null,
      "align_self": null,
      "border": null,
      "bottom": null,
      "display": null,
      "flex": null,
      "flex_flow": null,
      "grid_area": null,
      "grid_auto_columns": null,
      "grid_auto_flow": null,
      "grid_auto_rows": null,
      "grid_column": null,
      "grid_gap": null,
      "grid_row": null,
      "grid_template_areas": null,
      "grid_template_columns": null,
      "grid_template_rows": null,
      "height": null,
      "justify_content": null,
      "justify_items": null,
      "left": null,
      "margin": null,
      "max_height": null,
      "max_width": null,
      "min_height": null,
      "min_width": null,
      "object_fit": null,
      "object_position": null,
      "order": null,
      "overflow": null,
      "overflow_x": null,
      "overflow_y": null,
      "padding": null,
      "right": null,
      "top": null,
      "visibility": null,
      "width": null
     }
    },
    "a00a5755abd44320a0df0cd9bc3f02bd": {
     "model_module": "@jupyter-widgets/controls",
     "model_name": "HTMLModel",
     "state": {
      "_dom_classes": [],
      "_model_module": "@jupyter-widgets/controls",
      "_model_module_version": "1.5.0",
      "_model_name": "HTMLModel",
      "_view_count": null,
      "_view_module": "@jupyter-widgets/controls",
      "_view_module_version": "1.5.0",
      "_view_name": "HTMLView",
      "description": "",
      "description_tooltip": null,
      "layout": "IPY_MODEL_38f2c2b498e54344948bdf05f18b09b3",
      "placeholder": "​",
      "style": "IPY_MODEL_eafba4b9b70148fdacb680dce2237b47",
      "value": " 354M/354M [00:06&lt;00:00, 55.0MB/s]"
     }
    },
    "a021e5bd8a5c41afbf943fc1c56cc87f": {
     "model_module": "@jupyter-widgets/controls",
     "model_name": "HBoxModel",
     "state": {
      "_dom_classes": [],
      "_model_module": "@jupyter-widgets/controls",
      "_model_module_version": "1.5.0",
      "_model_name": "HBoxModel",
      "_view_count": null,
      "_view_module": "@jupyter-widgets/controls",
      "_view_module_version": "1.5.0",
      "_view_name": "HBoxView",
      "box_style": "",
      "children": [
       "IPY_MODEL_c32778f822e044fe922dceefb8b3619c",
       "IPY_MODEL_a00a5755abd44320a0df0cd9bc3f02bd"
      ],
      "layout": "IPY_MODEL_0d0725de8f284dfc82a14a77f7058f83"
     }
    },
    "a44625fba2cb42b58ea4b4d1eef33383": {
     "model_module": "@jupyter-widgets/base",
     "model_name": "LayoutModel",
     "state": {
      "_model_module": "@jupyter-widgets/base",
      "_model_module_version": "1.2.0",
      "_model_name": "LayoutModel",
      "_view_count": null,
      "_view_module": "@jupyter-widgets/base",
      "_view_module_version": "1.2.0",
      "_view_name": "LayoutView",
      "align_content": null,
      "align_items": null,
      "align_self": null,
      "border": null,
      "bottom": null,
      "display": null,
      "flex": null,
      "flex_flow": null,
      "grid_area": null,
      "grid_auto_columns": null,
      "grid_auto_flow": null,
      "grid_auto_rows": null,
      "grid_column": null,
      "grid_gap": null,
      "grid_row": null,
      "grid_template_areas": null,
      "grid_template_columns": null,
      "grid_template_rows": null,
      "height": null,
      "justify_content": null,
      "justify_items": null,
      "left": null,
      "margin": null,
      "max_height": null,
      "max_width": null,
      "min_height": null,
      "min_width": null,
      "object_fit": null,
      "object_position": null,
      "order": null,
      "overflow": null,
      "overflow_x": null,
      "overflow_y": null,
      "padding": null,
      "right": null,
      "top": null,
      "visibility": null,
      "width": null
     }
    },
    "a9037e18c2634247b87504442dfdae6c": {
     "model_module": "@jupyter-widgets/base",
     "model_name": "LayoutModel",
     "state": {
      "_model_module": "@jupyter-widgets/base",
      "_model_module_version": "1.2.0",
      "_model_name": "LayoutModel",
      "_view_count": null,
      "_view_module": "@jupyter-widgets/base",
      "_view_module_version": "1.2.0",
      "_view_name": "LayoutView",
      "align_content": null,
      "align_items": null,
      "align_self": null,
      "border": null,
      "bottom": null,
      "display": null,
      "flex": null,
      "flex_flow": null,
      "grid_area": null,
      "grid_auto_columns": null,
      "grid_auto_flow": null,
      "grid_auto_rows": null,
      "grid_column": null,
      "grid_gap": null,
      "grid_row": null,
      "grid_template_areas": null,
      "grid_template_columns": null,
      "grid_template_rows": null,
      "height": null,
      "justify_content": null,
      "justify_items": null,
      "left": null,
      "margin": null,
      "max_height": null,
      "max_width": null,
      "min_height": null,
      "min_width": null,
      "object_fit": null,
      "object_position": null,
      "order": null,
      "overflow": null,
      "overflow_x": null,
      "overflow_y": null,
      "padding": null,
      "right": null,
      "top": null,
      "visibility": null,
      "width": null
     }
    },
    "bc127d63f64e46f89c90508b997f95be": {
     "model_module": "@jupyter-widgets/controls",
     "model_name": "HTMLModel",
     "state": {
      "_dom_classes": [],
      "_model_module": "@jupyter-widgets/controls",
      "_model_module_version": "1.5.0",
      "_model_name": "HTMLModel",
      "_view_count": null,
      "_view_module": "@jupyter-widgets/controls",
      "_view_module_version": "1.5.0",
      "_view_name": "HTMLView",
      "description": "",
      "description_tooltip": null,
      "layout": "IPY_MODEL_4842f575df34425cb256e14ca8f5c9da",
      "placeholder": "​",
      "style": "IPY_MODEL_eede47baf7e645ac9d9bffd54008faa2",
      "value": " 436k/436k [00:00&lt;00:00, 4.24MB/s]"
     }
    },
    "c04a7da6531541f49e9a039791303a52": {
     "model_module": "@jupyter-widgets/controls",
     "model_name": "HTMLModel",
     "state": {
      "_dom_classes": [],
      "_model_module": "@jupyter-widgets/controls",
      "_model_module_version": "1.5.0",
      "_model_name": "HTMLModel",
      "_view_count": null,
      "_view_module": "@jupyter-widgets/controls",
      "_view_module_version": "1.5.0",
      "_view_name": "HTMLView",
      "description": "",
      "description_tooltip": null,
      "layout": "IPY_MODEL_a44625fba2cb42b58ea4b4d1eef33383",
      "placeholder": "​",
      "style": "IPY_MODEL_6523e335e8884b6b8349eec43eac2510",
      "value": " 213k/213k [00:00&lt;00:00, 671kB/s]"
     }
    },
    "c29b605220a5410b8a3e54417c1c1e92": {
     "model_module": "@jupyter-widgets/controls",
     "model_name": "ProgressStyleModel",
     "state": {
      "_model_module": "@jupyter-widgets/controls",
      "_model_module_version": "1.5.0",
      "_model_name": "ProgressStyleModel",
      "_view_count": null,
      "_view_module": "@jupyter-widgets/base",
      "_view_module_version": "1.2.0",
      "_view_name": "StyleView",
      "bar_color": null,
      "description_width": "initial"
     }
    },
    "c32778f822e044fe922dceefb8b3619c": {
     "model_module": "@jupyter-widgets/controls",
     "model_name": "FloatProgressModel",
     "state": {
      "_dom_classes": [],
      "_model_module": "@jupyter-widgets/controls",
      "_model_module_version": "1.5.0",
      "_model_name": "FloatProgressModel",
      "_view_count": null,
      "_view_module": "@jupyter-widgets/controls",
      "_view_module_version": "1.5.0",
      "_view_name": "ProgressView",
      "bar_style": "success",
      "description": "Downloading: 100%",
      "description_tooltip": null,
      "layout": "IPY_MODEL_4cabf453eb9243b28dae331ed3bbdab1",
      "max": 354041576,
      "min": 0,
      "orientation": "horizontal",
      "style": "IPY_MODEL_c29b605220a5410b8a3e54417c1c1e92",
      "value": 354041576
     }
    },
    "c625b4dbf684411d9fe1917f088bbea3": {
     "model_module": "@jupyter-widgets/controls",
     "model_name": "HBoxModel",
     "state": {
      "_dom_classes": [],
      "_model_module": "@jupyter-widgets/controls",
      "_model_module_version": "1.5.0",
      "_model_name": "HBoxModel",
      "_view_count": null,
      "_view_module": "@jupyter-widgets/controls",
      "_view_module_version": "1.5.0",
      "_view_name": "HBoxView",
      "box_style": "",
      "children": [
       "IPY_MODEL_35b18ec7cd7b4a398afd6957a5ef74bc",
       "IPY_MODEL_c04a7da6531541f49e9a039791303a52"
      ],
      "layout": "IPY_MODEL_a9037e18c2634247b87504442dfdae6c"
     }
    },
    "c782e74e202d4f4eabb06dcb74a7ea03": {
     "model_module": "@jupyter-widgets/controls",
     "model_name": "ProgressStyleModel",
     "state": {
      "_model_module": "@jupyter-widgets/controls",
      "_model_module_version": "1.5.0",
      "_model_name": "ProgressStyleModel",
      "_view_count": null,
      "_view_module": "@jupyter-widgets/base",
      "_view_module_version": "1.2.0",
      "_view_name": "StyleView",
      "bar_color": null,
      "description_width": "initial"
     }
    },
    "cb519e5759c0452aa0afe60cbfe469b0": {
     "model_module": "@jupyter-widgets/controls",
     "model_name": "HBoxModel",
     "state": {
      "_dom_classes": [],
      "_model_module": "@jupyter-widgets/controls",
      "_model_module_version": "1.5.0",
      "_model_name": "HBoxModel",
      "_view_count": null,
      "_view_module": "@jupyter-widgets/controls",
      "_view_module_version": "1.5.0",
      "_view_name": "HBoxView",
      "box_style": "",
      "children": [
       "IPY_MODEL_176e946a53dc41c38ff7c910352bd37b",
       "IPY_MODEL_2aee93cc63854564b2a3b2d2efe4fba6"
      ],
      "layout": "IPY_MODEL_e6eef7dc70a743f28fd209e52af4cff4"
     }
    },
    "ce019ce8072544abbfe7b2f7db6ea6a6": {
     "model_module": "@jupyter-widgets/controls",
     "model_name": "HTMLModel",
     "state": {
      "_dom_classes": [],
      "_model_module": "@jupyter-widgets/controls",
      "_model_module_version": "1.5.0",
      "_model_name": "HTMLModel",
      "_view_count": null,
      "_view_module": "@jupyter-widgets/controls",
      "_view_module_version": "1.5.0",
      "_view_name": "HTMLView",
      "description": "",
      "description_tooltip": null,
      "layout": "IPY_MODEL_5422b9ecfdac493c9024145cdeb044ff",
      "placeholder": "​",
      "style": "IPY_MODEL_1c175ee78a0b4832a03faad113a3d3ce",
      "value": " 29.0/29.0 [00:00&lt;00:00, 148B/s]"
     }
    },
    "d19330a68fbd479e942831a778c4a192": {
     "model_module": "@jupyter-widgets/controls",
     "model_name": "FloatProgressModel",
     "state": {
      "_dom_classes": [],
      "_model_module": "@jupyter-widgets/controls",
      "_model_module_version": "1.5.0",
      "_model_name": "FloatProgressModel",
      "_view_count": null,
      "_view_module": "@jupyter-widgets/controls",
      "_view_module_version": "1.5.0",
      "_view_name": "ProgressView",
      "bar_style": "success",
      "description": "Downloading: 100%",
      "description_tooltip": null,
      "layout": "IPY_MODEL_321052056b8c4717b75b3bce2f7cb0f3",
      "max": 435797,
      "min": 0,
      "orientation": "horizontal",
      "style": "IPY_MODEL_efe76eeb1d53488e991f30514890d20d",
      "value": 435797
     }
    },
    "e6eef7dc70a743f28fd209e52af4cff4": {
     "model_module": "@jupyter-widgets/base",
     "model_name": "LayoutModel",
     "state": {
      "_model_module": "@jupyter-widgets/base",
      "_model_module_version": "1.2.0",
      "_model_name": "LayoutModel",
      "_view_count": null,
      "_view_module": "@jupyter-widgets/base",
      "_view_module_version": "1.2.0",
      "_view_name": "LayoutView",
      "align_content": null,
      "align_items": null,
      "align_self": null,
      "border": null,
      "bottom": null,
      "display": null,
      "flex": null,
      "flex_flow": null,
      "grid_area": null,
      "grid_auto_columns": null,
      "grid_auto_flow": null,
      "grid_auto_rows": null,
      "grid_column": null,
      "grid_gap": null,
      "grid_row": null,
      "grid_template_areas": null,
      "grid_template_columns": null,
      "grid_template_rows": null,
      "height": null,
      "justify_content": null,
      "justify_items": null,
      "left": null,
      "margin": null,
      "max_height": null,
      "max_width": null,
      "min_height": null,
      "min_width": null,
      "object_fit": null,
      "object_position": null,
      "order": null,
      "overflow": null,
      "overflow_x": null,
      "overflow_y": null,
      "padding": null,
      "right": null,
      "top": null,
      "visibility": null,
      "width": null
     }
    },
    "eafba4b9b70148fdacb680dce2237b47": {
     "model_module": "@jupyter-widgets/controls",
     "model_name": "DescriptionStyleModel",
     "state": {
      "_model_module": "@jupyter-widgets/controls",
      "_model_module_version": "1.5.0",
      "_model_name": "DescriptionStyleModel",
      "_view_count": null,
      "_view_module": "@jupyter-widgets/base",
      "_view_module_version": "1.2.0",
      "_view_name": "StyleView",
      "description_width": ""
     }
    },
    "eede47baf7e645ac9d9bffd54008faa2": {
     "model_module": "@jupyter-widgets/controls",
     "model_name": "DescriptionStyleModel",
     "state": {
      "_model_module": "@jupyter-widgets/controls",
      "_model_module_version": "1.5.0",
      "_model_name": "DescriptionStyleModel",
      "_view_count": null,
      "_view_module": "@jupyter-widgets/base",
      "_view_module_version": "1.2.0",
      "_view_name": "StyleView",
      "description_width": ""
     }
    },
    "efe76eeb1d53488e991f30514890d20d": {
     "model_module": "@jupyter-widgets/controls",
     "model_name": "ProgressStyleModel",
     "state": {
      "_model_module": "@jupyter-widgets/controls",
      "_model_module_version": "1.5.0",
      "_model_name": "ProgressStyleModel",
      "_view_count": null,
      "_view_module": "@jupyter-widgets/base",
      "_view_module_version": "1.2.0",
      "_view_name": "StyleView",
      "bar_color": null,
      "description_width": "initial"
     }
    }
   }
  }
 },
 "nbformat": 4,
 "nbformat_minor": 1
}
