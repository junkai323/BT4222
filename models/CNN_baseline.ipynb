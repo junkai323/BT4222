{
 "cells": [
  {
   "cell_type": "code",
   "execution_count": null,
   "metadata": {
    "id": "IEa_RQw_0NyS"
   },
   "outputs": [],
   "source": [
    "import pandas as pd\n",
    "import numpy as np\n",
    "import matplotlib.pyplot as plt\n",
    "\n",
    "from __future__ import division\n",
    "\n",
    "from sklearn.model_selection import train_test_split\n",
    "from sklearn.pipeline import Pipeline\n",
    "from sklearn.feature_extraction.text import CountVectorizer\n",
    "\n",
    "import keras\n",
    "from keras.models import Sequential\n",
    "from keras.layers import Dense, Dropout, Activation, Embedding, LSTM\n",
    "from keras.preprocessing.text import Tokenizer\n",
    "from keras.preprocessing.sequence import pad_sequences\n",
    "from keras.callbacks import EarlyStopping\n",
    "from keras.layers import Dropout, SpatialDropout1D\n",
    "from keras.layers import Conv1D, MaxPooling1D, Conv2D\n",
    "from keras.layers import Bidirectional, GlobalMaxPooling1D, GlobalAveragePooling1D, GlobalMaxPooling2D\n",
    "\n",
    "import tensorflow as tf\n",
    "import tensorflow_hub as hub\n",
    "import logging\n",
    "\n",
    "from sklearn import metrics\n",
    "from sklearn.metrics import plot_confusion_matrix, accuracy_score, precision_score, recall_score, f1_score\n",
    "\n",
    "logging.basicConfig(level=logging.INFO)"
   ]
  },
  {
   "cell_type": "markdown",
   "metadata": {
    "id": "5g0iaKg81QyG"
   },
   "source": [
    "**Load Data**"
   ]
  },
  {
   "cell_type": "code",
   "execution_count": null,
   "metadata": {
    "colab": {
     "base_uri": "https://localhost:8080/"
    },
    "id": "1VkIfieB13WG",
    "outputId": "902bff11-b5cd-4357-b15c-182d35cb0e1d"
   },
   "outputs": [
    {
     "name": "stdout",
     "output_type": "stream",
     "text": [
      "Mounted at /content/drive\n"
     ]
    }
   ],
   "source": [
    "# mount google drive\n",
    "from google.colab import drive\n",
    "drive.mount('/content/drive')"
   ]
  },
  {
   "cell_type": "code",
   "execution_count": null,
   "metadata": {
    "id": "Qu1CI9ex1TB4"
   },
   "outputs": [],
   "source": [
    "full_clean_df = pd.read_excel(\"../data/full_clean_df.xlsx\", index_col=0)"
   ]
  },
  {
   "cell_type": "code",
   "execution_count": null,
   "metadata": {
    "id": "mYbxrImx0ebe"
   },
   "outputs": [],
   "source": [
    "labels_name_list = ['NotHate', 'Racist', 'Sexist', 'Homophobe', 'Religion', 'OtherHate']"
   ]
  },
  {
   "cell_type": "code",
   "execution_count": null,
   "metadata": {
    "colab": {
     "base_uri": "https://localhost:8080/"
    },
    "id": "JSn9K0pa93qg",
    "outputId": "17cfe962-1282-4f23-b01b-49d83c09269c"
   },
   "outputs": [
    {
     "data": {
      "text/plain": [
       "24"
      ]
     },
     "execution_count": 5,
     "metadata": {
      "tags": []
     },
     "output_type": "execute_result"
    }
   ],
   "source": [
    "# max length of tweet\n",
    "max([len(i) for i in full_clean_df['tweets_train'].apply(lambda x: x.split(' '))])"
   ]
  },
  {
   "cell_type": "markdown",
   "metadata": {
    "id": "TmPwKkuE2LfA"
   },
   "source": [
    "**Split Data**"
   ]
  },
  {
   "cell_type": "code",
   "execution_count": null,
   "metadata": {
    "id": "nZ2GFYyk2KwK"
   },
   "outputs": [],
   "source": [
    "X, X_test, y, y_test =  train_test_split(full_clean_df['tweets_train'], full_clean_df[labels_name_list], test_size=0.33, random_state=12)"
   ]
  },
  {
   "cell_type": "code",
   "execution_count": null,
   "metadata": {
    "id": "GBzdsRAK2Oen"
   },
   "outputs": [],
   "source": [
    "X_train, X_val, y_train, y_val = train_test_split(X, y, test_size=0.33, random_state=12)"
   ]
  },
  {
   "cell_type": "code",
   "execution_count": null,
   "metadata": {
    "colab": {
     "base_uri": "https://localhost:8080/"
    },
    "id": "c2KfjIXx2V4N",
    "outputId": "ff892e3f-51db-42ef-f892-eb92c02c4282"
   },
   "outputs": [
    {
     "data": {
      "text/plain": [
       "(64316,)"
      ]
     },
     "execution_count": 8,
     "metadata": {
      "tags": []
     },
     "output_type": "execute_result"
    }
   ],
   "source": [
    "X_train.shape"
   ]
  },
  {
   "cell_type": "markdown",
   "metadata": {
    "id": "Vj1N4-4REDsu"
   },
   "source": [
    "Define function to plot history"
   ]
  },
  {
   "cell_type": "code",
   "execution_count": null,
   "metadata": {
    "id": "Rbe8YuZG2X9W"
   },
   "outputs": [],
   "source": [
    "def plot_history(history):\n",
    "    # Plot loss and AUC \n",
    "    fig = plt.figure(figsize=(10,5))\n",
    "\n",
    "    #plt.subplot(1, 2, 1)\n",
    "    plt.plot(history.epoch, history.history['val_loss'], 'g-', label='Validation data')\n",
    "    plt.plot(history.epoch, history.history['loss'], 'r--', label='Training data')\n",
    "    plt.grid(True)\n",
    "    plt.xlabel('Number of epochs')\n",
    "    plt.ylabel('Loss on training/validation data')\n",
    "    plt.legend(bbox_to_anchor=(1.05, 1), loc=2, borderaxespad=0.)\n",
    "    plt.show()\n",
    "\n",
    "    #plt.subplot(1, 2, 2)\n",
    "    fig = plt.figure(figsize=(10,5))\n",
    "    plt.plot(history.epoch, history.history['val_auc'], 'g-', label='Validation data')\n",
    "    plt.plot(history.epoch, history.history['auc'], 'r--', label='Training data')\n",
    "    plt.grid(True)\n",
    "    plt.xlabel('Number of epochs')\n",
    "    plt.ylabel('AUC on training/validation data')\n",
    "    plt.legend(bbox_to_anchor=(1.05, 1), loc=2, borderaxespad=0.)\n",
    "    plt.show()"
   ]
  },
  {
   "cell_type": "code",
   "execution_count": null,
   "metadata": {
    "id": "Co5TgclfAW9j"
   },
   "outputs": [],
   "source": [
    "vect = Tokenizer()\n",
    "vect.fit_on_texts(X_train)\n",
    "vocab_size = len(vect.word_index) + 1"
   ]
  },
  {
   "cell_type": "code",
   "execution_count": null,
   "metadata": {
    "colab": {
     "base_uri": "https://localhost:8080/"
    },
    "id": "C1tNQNilAW66",
    "outputId": "5e724b0d-d6ea-4144-dffe-16433c6c5390"
   },
   "outputs": [
    {
     "data": {
      "text/plain": [
       "31646"
      ]
     },
     "execution_count": 11,
     "metadata": {
      "tags": []
     },
     "output_type": "execute_result"
    }
   ],
   "source": [
    "vocab_size"
   ]
  },
  {
   "cell_type": "code",
   "execution_count": null,
   "metadata": {
    "colab": {
     "base_uri": "https://localhost:8080/"
    },
    "id": "_ZBEyUsTAW48",
    "outputId": "e5330ef4-b822-4235-ccee-605cfd22dfc1"
   },
   "outputs": [
    {
     "name": "stdout",
     "output_type": "stream",
     "text": [
      "[[ 3106   513    38 ...     0     0     0]\n",
      " [   19     1 14057 ...     0     0     0]\n",
      " [  142 14058    37 ...     0     0     0]\n",
      " ...\n",
      " [  112   114   647 ...     0     0     0]\n",
      " [  263     7    17 ...     0     0     0]\n",
      " [ 1306     5     7 ...     0     0     0]]\n"
     ]
    }
   ],
   "source": [
    "train_encoded = vect.texts_to_sequences(X_train)\n",
    "max_length = vocab_size\n",
    "train_padded = pad_sequences(train_encoded, maxlen=30, padding='post')\n",
    "print(train_padded)"
   ]
  },
  {
   "cell_type": "code",
   "execution_count": null,
   "metadata": {
    "id": "bhl1ReJMAW3P"
   },
   "outputs": [],
   "source": [
    "val_encoded = vect.texts_to_sequences(X_val)\n",
    "test_encoded = vect.texts_to_sequences(X_test)\n",
    "\n",
    "val_padded = pad_sequences(val_encoded, maxlen=30, padding='post')\n",
    "test_padded = pad_sequences(test_encoded, maxlen=30, padding='post')"
   ]
  },
  {
   "cell_type": "markdown",
   "metadata": {
    "id": "66_VVmx_Jydb"
   },
   "source": [
    "**CNN**"
   ]
  },
  {
   "cell_type": "code",
   "execution_count": null,
   "metadata": {
    "colab": {
     "base_uri": "https://localhost:8080/"
    },
    "id": "rqDyDxS0AWzN",
    "outputId": "c03d1a14-4781-4203-ba2f-e2808aa8ce9f"
   },
   "outputs": [
    {
     "name": "stdout",
     "output_type": "stream",
     "text": [
      "Model: \"sequential\"\n",
      "_________________________________________________________________\n",
      "Layer (type)                 Output Shape              Param #   \n",
      "=================================================================\n",
      "embedding (Embedding)        (None, 30, 100)           3164600   \n",
      "_________________________________________________________________\n",
      "conv1d (Conv1D)              (None, 28, 64)            19264     \n",
      "_________________________________________________________________\n",
      "global_max_pooling1d (Global (None, 64)                0         \n",
      "_________________________________________________________________\n",
      "dropout (Dropout)            (None, 64)                0         \n",
      "_________________________________________________________________\n",
      "dense (Dense)                (None, 6)                 390       \n",
      "=================================================================\n",
      "Total params: 3,184,254\n",
      "Trainable params: 3,184,254\n",
      "Non-trainable params: 0\n",
      "_________________________________________________________________\n"
     ]
    }
   ],
   "source": [
    "model = Sequential()\n",
    "model.add(Embedding(vocab_size, output_dim=100, input_length=30))\n",
    "# CNN Model\n",
    "model.add(Conv1D(filters=64,\n",
    "                  kernel_size=3,\n",
    "                  padding='valid',\n",
    "                  activation='relu',\n",
    "                  strides=1))\n",
    "model.add(GlobalMaxPooling1D())\n",
    "model.add(Dropout(0.1))\n",
    "model.add(Dense(6, activation='sigmoid'))\n",
    "model.summary()"
   ]
  },
  {
   "cell_type": "code",
   "execution_count": null,
   "metadata": {
    "id": "azd0EiD-AWxZ"
   },
   "outputs": [],
   "source": [
    "model.compile(loss='binary_crossentropy', optimizer='adam', metrics=['Precision', 'Recall', 'AUC'])"
   ]
  },
  {
   "cell_type": "code",
   "execution_count": null,
   "metadata": {
    "id": "vKjxJ0O8riwm"
   },
   "outputs": [],
   "source": [
    "es = EarlyStopping(monitor='val_loss', mode='min', verbose=1)"
   ]
  },
  {
   "cell_type": "code",
   "execution_count": null,
   "metadata": {
    "colab": {
     "base_uri": "https://localhost:8080/"
    },
    "id": "Z8KJifsuAWvv",
    "outputId": "ff8e82c4-eb97-4d32-947e-6008084a1a19"
   },
   "outputs": [
    {
     "name": "stdout",
     "output_type": "stream",
     "text": [
      "Epoch 1/5\n",
      "252/252 [==============================] - 43s 47ms/step - loss: 0.4244 - precision: 0.8066 - recall: 0.5894 - auc: 0.8396 - val_loss: 0.2746 - val_precision: 0.8763 - val_recall: 0.6748 - val_auc: 0.9314\n",
      "Epoch 2/5\n",
      "252/252 [==============================] - 11s 43ms/step - loss: 0.2651 - precision: 0.8667 - recall: 0.6995 - auc: 0.9365 - val_loss: 0.2657 - val_precision: 0.8647 - val_recall: 0.6969 - val_auc: 0.9357\n",
      "Epoch 3/5\n",
      "252/252 [==============================] - 11s 43ms/step - loss: 0.2422 - precision: 0.8692 - recall: 0.7474 - auc: 0.9479 - val_loss: 0.2710 - val_precision: 0.8348 - val_recall: 0.7171 - val_auc: 0.9342\n",
      "Epoch 00003: early stopping\n"
     ]
    }
   ],
   "source": [
    "history = model.fit(train_padded, y_train, epochs=5, validation_data=(val_padded, y_val), batch_size=256, callbacks=[es])"
   ]
  },
  {
   "cell_type": "code",
   "execution_count": null,
   "metadata": {
    "colab": {
     "base_uri": "https://localhost:8080/",
     "height": 651
    },
    "id": "Pc4g9t5sGm45",
    "outputId": "67b34c7c-d46b-4933-b12b-c2edec3368bc"
   },
   "outputs": [
    {
     "data": {
      "image/png": "[encoded data removed]",
      "text/plain": [
       "<Figure size 720x360 with 1 Axes>"
      ]
     },
     "metadata": {
      "needs_background": "light",
      "tags": []
     },
     "output_type": "display_data"
    },
    {
     "data": {
      "image/png": "[encoded data removed]",
      "text/plain": [
       "<Figure size 720x360 with 1 Axes>"
      ]
     },
     "metadata": {
      "needs_background": "light",
      "tags": []
     },
     "output_type": "display_data"
    }
   ],
   "source": [
    "plot_history(history)"
   ]
  },
  {
   "cell_type": "code",
   "execution_count": null,
   "metadata": {
    "id": "VzM_BdZxAWtx"
   },
   "outputs": [],
   "source": [
    "predictions = model.predict(val_padded)"
   ]
  },
  {
   "cell_type": "code",
   "execution_count": null,
   "metadata": {
    "id": "4HmMq2RTLqF0"
   },
   "outputs": [],
   "source": [
    "# function to find the best threshold \n",
    "\n",
    "def optimal_threshold(test, predictions):\n",
    "  thresholds=[0.1,0.2,0.3,0.4,0.5,0.6,0.7,0.8,0.9]\n",
    "  \n",
    "  threshold_df = pd.DataFrame({})\n",
    "  \n",
    "  for thres in thresholds:\n",
    "      pred = predictions.copy()\n",
    "    \n",
    "      pred[pred >= thres] = 1\n",
    "      pred[pred < thres] = 0\n",
    "    \n",
    "      precision = precision_score(test, pred, average='macro')\n",
    "      recall = recall_score(test, pred, average='macro')\n",
    "      f1 = f1_score(test, pred, average='macro')\n",
    "\n",
    "      df = pd.DataFrame({\n",
    "          'threshold': round(thres, 4),\n",
    "          'prediction': round(precision, 4),\n",
    "          'recall': round(recall, 4),\n",
    "          'f1': round(f1, 4)\n",
    "      }, index=[0])\n",
    "\n",
    "      threshold_df = threshold_df.append(df)\n",
    "  return threshold_df.reset_index(drop=True)"
   ]
  },
  {
   "cell_type": "code",
   "execution_count": null,
   "metadata": {
    "colab": {
     "base_uri": "https://localhost:8080/",
     "height": 367
    },
    "id": "D_dso4tazwAw",
    "outputId": "40095fd5-09be-4c1a-b59e-69be5f120771"
   },
   "outputs": [
    {
     "name": "stderr",
     "output_type": "stream",
     "text": [
      "/usr/local/lib/python3.7/dist-packages/sklearn/metrics/_classification.py:1272: UndefinedMetricWarning: Precision is ill-defined and being set to 0.0 in labels with no predicted samples. Use `zero_division` parameter to control this behavior.\n",
      "  _warn_prf(average, modifier, msg_start, len(result))\n"
     ]
    },
    {
     "data": {
      "text/html": [
       "<div>\n",
       "<style scoped>\n",
       "    .dataframe tbody tr th:only-of-type {\n",
       "        vertical-align: middle;\n",
       "    }\n",
       "\n",
       "    .dataframe tbody tr th {\n",
       "        vertical-align: top;\n",
       "    }\n",
       "\n",
       "    .dataframe thead th {\n",
       "        text-align: right;\n",
       "    }\n",
       "</style>\n",
       "<table border=\"1\" class=\"dataframe\">\n",
       "  <thead>\n",
       "    <tr style=\"text-align: right;\">\n",
       "      <th></th>\n",
       "      <th>threshold</th>\n",
       "      <th>prediction</th>\n",
       "      <th>recall</th>\n",
       "      <th>f1</th>\n",
       "    </tr>\n",
       "  </thead>\n",
       "  <tbody>\n",
       "    <tr>\n",
       "      <th>0</th>\n",
       "      <td>0.1</td>\n",
       "      <td>0.5327</td>\n",
       "      <td>0.6978</td>\n",
       "      <td>0.5228</td>\n",
       "    </tr>\n",
       "    <tr>\n",
       "      <th>1</th>\n",
       "      <td>0.2</td>\n",
       "      <td>0.5862</td>\n",
       "      <td>0.6269</td>\n",
       "      <td>0.5412</td>\n",
       "    </tr>\n",
       "    <tr>\n",
       "      <th>2</th>\n",
       "      <td>0.3</td>\n",
       "      <td>0.5151</td>\n",
       "      <td>0.5634</td>\n",
       "      <td>0.5332</td>\n",
       "    </tr>\n",
       "    <tr>\n",
       "      <th>3</th>\n",
       "      <td>0.4</td>\n",
       "      <td>0.5450</td>\n",
       "      <td>0.4941</td>\n",
       "      <td>0.5122</td>\n",
       "    </tr>\n",
       "    <tr>\n",
       "      <th>4</th>\n",
       "      <td>0.5</td>\n",
       "      <td>0.5789</td>\n",
       "      <td>0.4184</td>\n",
       "      <td>0.4728</td>\n",
       "    </tr>\n",
       "    <tr>\n",
       "      <th>5</th>\n",
       "      <td>0.6</td>\n",
       "      <td>0.6205</td>\n",
       "      <td>0.3562</td>\n",
       "      <td>0.4249</td>\n",
       "    </tr>\n",
       "    <tr>\n",
       "      <th>6</th>\n",
       "      <td>0.7</td>\n",
       "      <td>0.6594</td>\n",
       "      <td>0.3000</td>\n",
       "      <td>0.3696</td>\n",
       "    </tr>\n",
       "    <tr>\n",
       "      <th>7</th>\n",
       "      <td>0.8</td>\n",
       "      <td>0.6960</td>\n",
       "      <td>0.2335</td>\n",
       "      <td>0.2911</td>\n",
       "    </tr>\n",
       "    <tr>\n",
       "      <th>8</th>\n",
       "      <td>0.9</td>\n",
       "      <td>0.7428</td>\n",
       "      <td>0.1540</td>\n",
       "      <td>0.1816</td>\n",
       "    </tr>\n",
       "  </tbody>\n",
       "</table>\n",
       "</div>"
      ],
      "text/plain": [
       "   threshold  prediction  recall      f1\n",
       "0        0.1      0.5327  0.6978  0.5228\n",
       "1        0.2      0.5862  0.6269  0.5412\n",
       "2        0.3      0.5151  0.5634  0.5332\n",
       "3        0.4      0.5450  0.4941  0.5122\n",
       "4        0.5      0.5789  0.4184  0.4728\n",
       "5        0.6      0.6205  0.3562  0.4249\n",
       "6        0.7      0.6594  0.3000  0.3696\n",
       "7        0.8      0.6960  0.2335  0.2911\n",
       "8        0.9      0.7428  0.1540  0.1816"
      ]
     },
     "execution_count": 21,
     "metadata": {
      "tags": []
     },
     "output_type": "execute_result"
    }
   ],
   "source": [
    "optimal_threshold(y_val, predictions)"
   ]
  },
  {
   "cell_type": "code",
   "execution_count": null,
   "metadata": {
    "colab": {
     "base_uri": "https://localhost:8080/"
    },
    "id": "hsGUGnOIAWrz",
    "outputId": "31874f55-a017-43e0-8b6e-cfbc71e273ee"
   },
   "outputs": [
    {
     "name": "stdout",
     "output_type": "stream",
     "text": [
      "              precision    recall  f1-score   support\n",
      "\n",
      "           0   0.923269  0.998756  0.959530     28950\n",
      "           1   0.432800  0.851784  0.573963      9837\n",
      "           2   0.475099  0.577047  0.521134      4348\n",
      "           3   0.670833  0.674204  0.672515      2388\n",
      "           4   0.600000  0.006410  0.012685       468\n",
      "           5   0.415213  0.653087  0.507667      4664\n",
      "\n",
      "   micro avg   0.676738  0.877722  0.764237     50655\n",
      "   macro avg   0.586202  0.626882  0.541249     50655\n",
      "weighted avg   0.727887  0.877722  0.783141     50655\n",
      " samples avg   0.704078  0.909451  0.763383     50655\n",
      "\n"
     ]
    }
   ],
   "source": [
    "# optimized threshold = 0.2 \n",
    "\n",
    "cnn_pred = [[1 if i >=0.2 else 0 for i in pred] for pred in predictions]\n",
    "print(metrics.classification_report(y_val, cnn_pred, digits=6))"
   ]
  },
  {
   "cell_type": "code",
   "execution_count": null,
   "metadata": {
    "colab": {
     "base_uri": "https://localhost:8080/"
    },
    "id": "DmzLbolgAMGn",
    "outputId": "50152941-0ade-4622-85db-64fd964918fd"
   },
   "outputs": [
    {
     "name": "stdout",
     "output_type": "stream",
     "text": [
      "[[[  326  2403]\n",
      "  [   36 28914]]\n",
      "\n",
      " [[10861 10981]\n",
      "  [ 1458  8379]]\n",
      "\n",
      " [[24559  2772]\n",
      "  [ 1839  2509]]\n",
      "\n",
      " [[28501   790]\n",
      "  [  778  1610]]\n",
      "\n",
      " [[31209     2]\n",
      "  [  465     3]]\n",
      "\n",
      " [[22725  4290]\n",
      "  [ 1618  3046]]]\n"
     ]
    }
   ],
   "source": [
    "print(metrics.multilabel_confusion_matrix(y_val, cnn_pred))"
   ]
  }
 ],
 "metadata": {
  "accelerator": "GPU",
  "colab": {
   "collapsed_sections": [],
   "name": "(FINAL) CNN_baseline",
   "provenance": []
  },
  "kernelspec": {
   "display_name": "Python 3",
   "language": "python",
   "name": "python3"
  },
  "language_info": {
   "codemirror_mode": {
    "name": "ipython",
    "version": 3
   },
   "file_extension": ".py",
   "mimetype": "text/x-python",
   "name": "python",
   "nbconvert_exporter": "python",
   "pygments_lexer": "ipython3",
   "version": "3.7.3"
  }
 },
 "nbformat": 4,
 "nbformat_minor": 1
}
